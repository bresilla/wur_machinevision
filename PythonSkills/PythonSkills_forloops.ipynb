{
 "cells": [
  {
   "cell_type": "markdown",
   "metadata": {},
   "source": [
    "---\n",
    "# Python Skill: Multidimensional Numpy Arrays\n",
    "---"
   ]
  },
  {
   "cell_type": "markdown",
   "metadata": {},
   "source": [
    "In Python, we use Numpy to create lists of numbers (or, more accurately, *arrays* of numbers). We can make a one-dimensional array by passing `np.array` a list of numbers. (Recall that in Python a list is a set of items surrounded by square brackets `[` and `]`)."
   ]
  },
  {
   "cell_type": "code",
   "execution_count": null,
   "metadata": {},
   "outputs": [],
   "source": [
    "one_d = np.array([3.0, 5.0, 1.0, 9.0])\n",
    "print(one_d)"
   ]
  },
  {
   "cell_type": "markdown",
   "metadata": {},
   "source": [
    "This array is one-dimensional, because we can ask for any number in the array using only one index. For example, if we want the second number in the array, we can use:"
   ]
  },
  {
   "cell_type": "code",
   "execution_count": null,
   "metadata": {},
   "outputs": [],
   "source": [
    "print(one_d[1]) # Note that array indexes start at 0, the first number. The second number in the array is at index 1."
   ]
  },
  {
   "cell_type": "markdown",
   "metadata": {},
   "source": [
    "We can also ask for the array dimensions using `.shape`."
   ]
  },
  {
   "cell_type": "code",
   "execution_count": null,
   "metadata": {},
   "outputs": [],
   "source": [
    "print(one_d.shape)"
   ]
  },
  {
   "cell_type": "markdown",
   "metadata": {},
   "source": [
    "Note that there is one number in the shape (this is a one-dimensional array), and the array has 4 elements (3, 5, 1, and 9)."
   ]
  },
  {
   "cell_type": "markdown",
   "metadata": {},
   "source": [
    "One dimension is not enough to represent images in imaging libraries. Images consist of rows and columns of values. To make a two-dimensional array in Numpy, all we need to pass `np.array` *lists of lists of numbers*."
   ]
  },
  {
   "cell_type": "code",
   "execution_count": null,
   "metadata": {},
   "outputs": [],
   "source": [
    "two_d = np.array([[3.0, 5.0, 1.0, 9.0],\n",
    "                  [1.0, 2.0, 5.0, 3.0],\n",
    "                  [2.0, 4.0, 3.0, 5.0]])"
   ]
  },
  {
   "cell_type": "markdown",
   "metadata": {},
   "source": [
    "Notice that we are passing a list of three lists to `np.array`. We can access the last column (index 3) of the first row using (index 0) using:"
   ]
  },
  {
   "cell_type": "code",
   "execution_count": null,
   "metadata": {},
   "outputs": [],
   "source": [
    "print(two_d[0, 3])"
   ]
  },
  {
   "cell_type": "markdown",
   "metadata": {},
   "source": [
    "Again we can as for the array dimensions using `.shape`"
   ]
  },
  {
   "cell_type": "code",
   "execution_count": null,
   "metadata": {},
   "outputs": [],
   "source": [
    "print(two_d.shape)"
   ]
  },
  {
   "cell_type": "markdown",
   "metadata": {},
   "source": [
    "Here the shape has two numbers, because the array is two-dimensional. There are 3 rows, each with 4 columns."
   ]
  },
  {
   "cell_type": "markdown",
   "metadata": {},
   "source": [
    "Note that we are now using two indices to access a number in the array, so this is a two-dimensional array. Three-dimensional arrays can be created in a similar way (by passing `np.array` lists of lists of lists of numbers). In the next section, we will see how such arrays are interpreted as images, and demonstrate how to plot these images to the screen."
   ]
  },
  {
   "cell_type": "code",
   "execution_count": null,
   "metadata": {},
   "outputs": [],
   "source": []
  }
 ],
 "metadata": {
  "kernelspec": {
   "display_name": "Python 3",
   "language": "python",
   "name": "python3"
  },
  "language_info": {
   "codemirror_mode": {
    "name": "ipython",
    "version": 3
   },
   "file_extension": ".py",
   "mimetype": "text/x-python",
   "name": "python",
   "nbconvert_exporter": "python",
   "pygments_lexer": "ipython3",
   "version": "3.6.7"
  }
 },
 "nbformat": 4,
 "nbformat_minor": 2
}
