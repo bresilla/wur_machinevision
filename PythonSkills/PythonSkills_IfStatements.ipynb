{
 "cells": [
  {
   "cell_type": "markdown",
   "metadata": {},
   "source": [
    "---\n",
    "Python Skill: If statements\n",
    "---\n",
    "\n",
    "If you look back at the averaging kernel creation function, you'll see that there is a new statement type being used using the keywords `if` and `else`.\n",
    "```\n",
    "def create_averaging_kernel_1D(kSize):           #function to build a 1d averaging kernel\n",
    "    if not (kSize%2==0):\n",
    "        kernel0 = np.ones(shape=(1,kSize))/kSize \n",
    "        return kernel0\n",
    "    else:\n",
    "        print('Not allowed kernel size')\n",
    "```\n",
    "\n",
    "Very often we want Python to choose between two alternative calculations, based on some predefined condition. For this, Python defines `if` statements. Their basic structure is:\n",
    "\n",
    "```\n",
    "if (condition):\n",
    "    ... code to execute if the condition is true.\n",
    "else:\n",
    "    ... code to execute if the condition is false.\n",
    "```\n",
    "\n",
    "Check the following block of code. Change the values assigned to `foo` and `bar`. Note how only on print statement is executed, based on the values of whether or not the two variables are equal. Also note that we test for equality using *TWO* `=` signs (`==`). The use of the double equals is common in languages like Python and Java which derive some of their structure from a much older language called C. "
   ]
  },
  {
   "cell_type": "code",
   "execution_count": 2,
   "metadata": {},
   "outputs": [
    {
     "name": "stdout",
     "output_type": "stream",
     "text": [
      "Foo is equal to bar.\n"
     ]
    }
   ],
   "source": [
    "foo = 3\n",
    "bar = 3\n",
    "\n",
    "if (foo == bar):\n",
    "    print(\"Foo is equal to bar.\")\n",
    "else:\n",
    "    print(\"Foo is not equal to bar.\")"
   ]
  },
  {
   "cell_type": "markdown",
   "metadata": {},
   "source": [
    "Other comparisons you can use include:\n",
    "```\n",
    "Less than: <\n",
    "Less than or equal: <=\n",
    "Greater than: >\n",
    "Greater than or equal: >=\n",
    "```\n",
    "\n",
    "__Exercise (comparison)__\n",
    "\n",
    "Adapt the previous code block to test whether bar is greater or equal to foo, instead of equality."
   ]
  },
  {
   "cell_type": "code",
   "execution_count": 3,
   "metadata": {},
   "outputs": [
    {
     "name": "stdout",
     "output_type": "stream",
     "text": [
      "Bar is greater or equal to foo.\n"
     ]
    }
   ],
   "source": [
    "# SOLUTION\n",
    "\n",
    "foo = 1\n",
    "bar = 3\n",
    "\n",
    "if (bar >= foo):\n",
    "    print(\"Bar is greater or equal to foo.\")\n",
    "else:\n",
    "    print(\"Bar is not greater or equal to foo.\")"
   ]
  },
  {
   "cell_type": "markdown",
   "metadata": {},
   "source": [
    "Finally, we sometimes want to be able to combine multiple conditions together, or test if a condition is NOT true. To do this, we can use `and`, `or` and `not`. For example, we can rewrite <= as a combination of two conditions == or <."
   ]
  },
  {
   "cell_type": "code",
   "execution_count": 4,
   "metadata": {},
   "outputs": [
    {
     "name": "stdout",
     "output_type": "stream",
     "text": [
      "Foo is less than or equal to bar.\n",
      "Foo is less than or equal to bar.\n"
     ]
    }
   ],
   "source": [
    "# SOLUTION\n",
    "\n",
    "foo = 1\n",
    "bar = 3\n",
    "\n",
    "if (foo <= bar):\n",
    "    print(\"Foo is less than or equal to bar.\")\n",
    "else:\n",
    "    print(\"Far is not less than or equal to bar.\")\n",
    "    \n",
    "# The following should give the same result.\n",
    "    \n",
    "if (foo < bar) or (foo == bar):\n",
    "    print(\"Foo is less than or equal to bar.\")\n",
    "else:\n",
    "    print(\"Far is not less than or equal to bar.\")"
   ]
  },
  {
   "cell_type": "markdown",
   "metadata": {},
   "source": [
    "__Exercise (and statements)__\n",
    "\n",
    "For sake of argument, let's pretend that we don't have access to `==`, but instead were able to use both `<=` and `>=`. Rewrite the equality test such that you don't use `==`\n",
    "```\n",
    "foo = 3\n",
    "bar = 3\n",
    "\n",
    "if (foo == bar):\n",
    "    print(\"Foo is equal to bar.\")\n",
    "else:\n",
    "    print(\"Foo is not equal to bar.\")\n",
    "```\n"
   ]
  },
  {
   "cell_type": "code",
   "execution_count": 5,
   "metadata": {},
   "outputs": [
    {
     "name": "stdout",
     "output_type": "stream",
     "text": [
      "Foo is not equal to bar.\n"
     ]
    }
   ],
   "source": [
    "# SOLUTION\n",
    "\n",
    "foo = 3\n",
    "bar = 4\n",
    "\n",
    "if (foo <= bar) and (foo >= bar):\n",
    "    print(\"Foo is equal to bar.\")\n",
    "else:\n",
    "    print(\"Foo is not equal to bar.\")\n",
    "    "
   ]
  },
  {
   "cell_type": "markdown",
   "metadata": {},
   "source": [
    "We can invert a decision using `not`. Consider the following two equivalent pieces of code:"
   ]
  },
  {
   "cell_type": "code",
   "execution_count": 6,
   "metadata": {},
   "outputs": [
    {
     "name": "stdout",
     "output_type": "stream",
     "text": [
      "Foo is not equal to bar.\n",
      "Foo is not equal to bar.\n"
     ]
    }
   ],
   "source": [
    "foo = 3\n",
    "bar = 4\n",
    "\n",
    "if (foo == bar):\n",
    "    print(\"Foo is equal to bar.\")\n",
    "else:\n",
    "    print(\"Foo is not equal to bar.\")\n",
    "\n",
    "if not (foo == bar):\n",
    "    print(\"Foo is not equal to bar.\")\n",
    "else:\n",
    "    print(\"Foo is equal to bar.\")\n"
   ]
  }
 ],
 "metadata": {
  "kernelspec": {
   "display_name": "Python 3",
   "language": "python",
   "name": "python3"
  },
  "language_info": {
   "codemirror_mode": {
    "name": "ipython",
    "version": 3
   },
   "file_extension": ".py",
   "mimetype": "text/x-python",
   "name": "python",
   "nbconvert_exporter": "python",
   "pygments_lexer": "ipython3",
   "version": "3.6.7"
  }
 },
 "nbformat": 4,
 "nbformat_minor": 2
}
