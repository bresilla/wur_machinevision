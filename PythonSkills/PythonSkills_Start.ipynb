{
 "cells": [
  {
   "cell_type": "markdown",
   "metadata": {},
   "source": [
    "# Key Python Skills for Module 1"
   ]
  },
  {
   "cell_type": "markdown",
   "metadata": {},
   "source": [
    "In this module, you will learn the basics of the programming language Python, which will be used in this course for implementing and demonstrating the machine vision techniques we will be exercising. Because students coming into this module may not have had experience using Python before, the modules are carefully designed to introduce new elements of the Python language in parallel with the actual machine vision material. \n",
    "\n",
    "We will, from time to time, have to use some more exotic Python code to help us illustrate the material better for you. However, code where you are not expected to follow the small details will be clearly marked as such, and in such cases you only need to have an intuitive understanding of what it does.\n",
    "\n",
    "In the notebook, we first introduce the most basic concepts in the Python language. In later notebooks, we will work on further aspects of the Python language in between the machine vision material itself.\n",
    "Often, a new Python concept will be introduced just before we apply it in the machine vision material.\n",
    "\n",
    "This module will follow the path of a small child growing up, as you will see throughout the module.\n",
    "One of the first things a child learns is how to talk, which is exactly what we will start with."
   ]
  },
  {
   "cell_type": "markdown",
   "metadata": {},
   "source": [
    "# Makeing a statement: Printing in Python\n",
    "\n",
    "In Python, we can use the `print` command to show a piece of text on the screen. Click on the cell containing the `print(\"Hello World\")` command below. Then press shift+enter to run the cell. You should see the message Hello World printed just below the cell."
   ]
  },
  {
   "cell_type": "code",
   "execution_count": 1,
   "metadata": {},
   "outputs": [
    {
     "name": "stdout",
     "output_type": "stream",
     "text": [
      "Hello World\n"
     ]
    }
   ],
   "source": [
    "print(\"Hello World\")"
   ]
  },
  {
   "cell_type": "markdown",
   "metadata": {},
   "source": [
    "The print command above is an example of a *statement*. In Python, if you need a list of tasks to be performed, you do this by entering a number of statements, one after the other. Below is an example of three such statements, try running these with shift+enter as well."
   ]
  },
  {
   "cell_type": "code",
   "execution_count": 2,
   "metadata": {},
   "outputs": [
    {
     "name": "stdout",
     "output_type": "stream",
     "text": [
      "Hello World (again)\n",
      "6\n",
      "11\n"
     ]
    }
   ],
   "source": [
    "print(\"Hello World (again)\")\n",
    "print(6)\n",
    "print(6 + 5)"
   ]
  },
  {
   "cell_type": "markdown",
   "metadata": {},
   "source": [
    "You can see above that Python just runs the statements you provide to it in order. We'll look at other kinds of statements in the following section. Before moving on though, let's look at the following code block. Try running it with shift+enter."
   ]
  },
  {
   "cell_type": "code",
   "execution_count": null,
   "metadata": {},
   "outputs": [],
   "source": [
    "\"Hello World\""
   ]
  },
  {
   "cell_type": "markdown",
   "metadata": {},
   "source": [
    "That looks very similar to the result of `print(\"Hello World\")`, except that the quotes are still in there. Also, notice that there is an `Out[x]` label to the left of 'Hello World' now, which was not the case with the `print` statement. What is the difference, and why do we use `print` so much in this notebook? The easiest illustration would be to use the other previous example as an illustration. Here we just drop all the `print`s. Try running it."
   ]
  },
  {
   "cell_type": "code",
   "execution_count": null,
   "metadata": {},
   "outputs": [],
   "source": [
    "\"Hello World (again)\"\n",
    "6\n",
    "6 + 5"
   ]
  },
  {
   "cell_type": "markdown",
   "metadata": {},
   "source": [
    "That's quite different from the results using the `print` statement, only the last result (11) is printed. This is because of the way Python and Jupyter Notebook work together. Python runs all the statements you give to it in order. When it reaches the last line, if that line results in a value of some kind (like a quoted message as in \"Hello World\", or a numeric result 11), that value is output by Jupyter Notebook and labelled as an output using `Out[x]`. If you want results from before the last line to be printed, you have to use the `print` statement, which causes Jupyter Notebook to print whatever value is passed to the statement immediately. This is why you will see many `print` statements per cell in this notebook, since we most often have more than one example per code cell.\n",
    "\n",
    "*Exercise:* \n",
    "Adapt the lines of code just below this block in such a way that all three lines are printed.\n"
   ]
  },
  {
   "cell_type": "code",
   "execution_count": null,
   "metadata": {},
   "outputs": [],
   "source": [
    "\"Hello World (again)\"\n",
    "6\n",
    "6 + 5"
   ]
  },
  {
   "cell_type": "markdown",
   "metadata": {},
   "source": [
    "# Basic Arithmetic"
   ]
  },
  {
   "cell_type": "markdown",
   "metadata": {},
   "source": [
    "The next step in growing up is learning mathematics.\n",
    "Let's use Python for doing some basic mathematical calculations. Below we have a series of statements they demonstrate addition, subtraction, multiplication, division and exponentiation respectively."
   ]
  },
  {
   "cell_type": "code",
   "execution_count": null,
   "metadata": {},
   "outputs": [],
   "source": [
    "print(5 + 6)\n",
    "print(5 - 6)\n",
    "print(5 * 6)\n",
    "print(5 / 6)\n",
    "print(3 ** 2)"
   ]
  },
  {
   "cell_type": "markdown",
   "metadata": {},
   "source": [
    "## Strings versus Numbers\n",
    "\n",
    "Why did we put double quotes `\"` around Hello World? Let's see what happens if we don't."
   ]
  },
  {
   "cell_type": "code",
   "execution_count": 3,
   "metadata": {},
   "outputs": [
    {
     "ename": "SyntaxError",
     "evalue": "invalid syntax. Perhaps you forgot a comma? (Temp/ipykernel_6712/4293340409.py, line 1)",
     "output_type": "error",
     "traceback": [
      "\u001b[1;36m  File \u001b[1;32m\"C:\\Users\\nieuw009\\AppData\\Local\\Temp/ipykernel_6712/4293340409.py\"\u001b[1;36m, line \u001b[1;32m1\u001b[0m\n\u001b[1;33m    print(Hello World)\u001b[0m\n\u001b[1;37m          ^\u001b[0m\n\u001b[1;31mSyntaxError\u001b[0m\u001b[1;31m:\u001b[0m invalid syntax. Perhaps you forgot a comma?\n"
     ]
    }
   ],
   "source": [
    "print(Hello World)"
   ]
  },
  {
   "cell_type": "markdown",
   "metadata": {},
   "source": [
    "We get a syntax error, which basically means that what we have typed is not valid Python. What do those quotes do exactly? The following examples will make that clearer."
   ]
  },
  {
   "cell_type": "code",
   "execution_count": 4,
   "metadata": {},
   "outputs": [
    {
     "name": "stdout",
     "output_type": "stream",
     "text": [
      "5 + 6\n",
      "5 - 6\n",
      "5 * 6\n",
      "5 / 6\n",
      "3 ** 2\n"
     ]
    }
   ],
   "source": [
    "print(\"5 + 6\")\n",
    "print(\"5 - 6\")\n",
    "print(\"5 * 6\")\n",
    "print(\"5 / 6\")\n",
    "print(\"3 ** 2\")"
   ]
  },
  {
   "cell_type": "markdown",
   "metadata": {},
   "source": [
    "Interesting, suddenly Python is not calculating the arithmetic expressions any more... This is because the double quotes create what is called a string. A string is a sequence of characters. Roughly speaking, this is how Python stores \"messages\". Anything that is between double quotes will not be altered by Python.\n",
    "The double quotes in the command `print(\"5 * 6\")` tell Python to NOT do the calculation but to simply print the characters.\n",
    "\n",
    "*Exercise:* change the code in the block below so that Python no longer prints the characters but actually does the calculation of `5 * 6`.\n",
    "\n"
   ]
  },
  {
   "cell_type": "code",
   "execution_count": null,
   "metadata": {},
   "outputs": [],
   "source": [
    "print(\"5 * 6\")"
   ]
  },
  {
   "cell_type": "markdown",
   "metadata": {},
   "source": [
    "Something useful to keep in mind is that you can combine strings to make more complicated messages. The following block adds two strings together (this is called concatenation)"
   ]
  },
  {
   "cell_type": "code",
   "execution_count": null,
   "metadata": {},
   "outputs": [],
   "source": [
    "print(\"String 1 \" + \"String 2\")"
   ]
  },
  {
   "cell_type": "markdown",
   "metadata": {},
   "source": [
    "We can repeat strings by multiplying them with an integer."
   ]
  },
  {
   "cell_type": "code",
   "execution_count": null,
   "metadata": {},
   "outputs": [],
   "source": [
    "print(\"ABC\" * 3)"
   ]
  },
  {
   "cell_type": "markdown",
   "metadata": {},
   "source": [
    "We can also add numbers and other objects to a string message. But we can't do this directly, the following code fails."
   ]
  },
  {
   "cell_type": "code",
   "execution_count": null,
   "metadata": {},
   "outputs": [],
   "source": [
    "print(\"My favourite number is \" + 5)"
   ]
  },
  {
   "cell_type": "markdown",
   "metadata": {},
   "source": [
    "The type error says that we cannot add an integer to the end of the string, only another string. So, we have to convert the integer to a string. We can do this with the `str()` function or with the `repr()` function."
   ]
  },
  {
   "cell_type": "code",
   "execution_count": null,
   "metadata": {},
   "outputs": [],
   "source": [
    "print(\"My favourite number is \" + str(5))\n",
    "print(\"My favourite number is \" + repr(5))"
   ]
  },
  {
   "cell_type": "markdown",
   "metadata": {},
   "source": [
    "str() converts numbers (amongst other possibilities) into a string. See below how str(5) evaluates to '5' (in Python, you can also use single quotes)."
   ]
  },
  {
   "cell_type": "code",
   "execution_count": null,
   "metadata": {},
   "outputs": [],
   "source": [
    "str(5)"
   ]
  },
  {
   "cell_type": "markdown",
   "metadata": {},
   "source": [
    "This why the 'favourite number' statement works, you are effectively typing."
   ]
  },
  {
   "cell_type": "code",
   "execution_count": null,
   "metadata": {},
   "outputs": [],
   "source": [
    "print(\"My favourite number is \" + \"5\")"
   ]
  },
  {
   "cell_type": "markdown",
   "metadata": {},
   "source": [
    "You will use this kind of statement a lot to see what your code is doing as it runs. But, we'll return to that later."
   ]
  },
  {
   "cell_type": "markdown",
   "metadata": {},
   "source": [
    "# Comments\n",
    "\n",
    "Very often we would like to add extra information for readers inside a part of Python code to explain a particular statement. But, we can't just add such comments wherever we'd like. Try executing the code below."
   ]
  },
  {
   "cell_type": "code",
   "execution_count": null,
   "metadata": {},
   "outputs": [],
   "source": [
    "print(5 + 6) Note: Adds 5 and 6\n",
    "print(5 - 6) Note: Subtracts 6 from 5"
   ]
  },
  {
   "cell_type": "markdown",
   "metadata": {},
   "source": [
    "You should have gotten a *syntax error* when executing the cell above. A syntax error means that the code that you were trying to execute is not a valid Python program. Programming languages have very strict grammers which specify what can be said, and how to say it. \n",
    "\n",
    "But, we just want to say something about the statements for other programmers, Python doesn't need to look at them. We can do this by creating a comment. In Python, comments are started with a hashtag #. Anything that follows a hash on the same line is ignored by Python.\n",
    "\n",
    "Try running the following code block."
   ]
  },
  {
   "cell_type": "code",
   "execution_count": null,
   "metadata": {},
   "outputs": [],
   "source": [
    "print(5 + 6)  # Calculates 5 plus 6.\n",
    "print(5 - 6)  # Calculates 5 minus 6.\n",
    "print(5 * 6)  # Calculates 5 times 6.\n",
    "# print(5 / 6) Python will not run this line at all, because we've commented it out entirely.\n",
    "print(3 ** 2) # Calculates 3 to the power of 2"
   ]
  },
  {
   "cell_type": "markdown",
   "metadata": {},
   "source": [
    "Notice the following:\n",
    "* Lines 1, 2, 3 and 5 now execute as expected. The text after the hash could be anything, it will just get ignored.\n",
    "* Python ignores everything after a hash. This means the line 4 which contains print(5 / 6) doesn't get executed at all. This is handy when you want to skip a step you previously added without actually getting rid of what you've written entirely."
   ]
  },
  {
   "cell_type": "markdown",
   "metadata": {},
   "source": [
    "# Variables\n",
    "\n",
    "Sometimes we want to keep values we have previously calculated to be used as part of future calculations. To do this, we can create what's called a variable. This is similar to the idea of a variable in mathematics. Let's calculate\n",
    "\n",
    "$$ -3(5 + 6)^3 + (5 + 6)^2 + 5 \\times(5 + 6)$$\n",
    "\n",
    "In this formula, the value (5 + 6) appears multiple times, so it would be easier to reuse that calculation."
   ]
  },
  {
   "cell_type": "code",
   "execution_count": null,
   "metadata": {},
   "outputs": [],
   "source": [
    "x = 5 + 6   # This line is an assignment statement, it assigns the result of 5 + 6 to the variable x.\n",
    "print(x)    # This line is a print statement which prints out the value of x."
   ]
  },
  {
   "cell_type": "markdown",
   "metadata": {},
   "source": [
    "Now we can use `x` to calculate the original expression.\n",
    "Note that in Python `3**2` is used to caclulate `3^2`"
   ]
  },
  {
   "cell_type": "code",
   "execution_count": 5,
   "metadata": {},
   "outputs": [
    {
     "ename": "NameError",
     "evalue": "name 'x' is not defined",
     "output_type": "error",
     "traceback": [
      "\u001b[1;31m---------------------------------------------------------------------------\u001b[0m",
      "\u001b[1;31mNameError\u001b[0m                                 Traceback (most recent call last)",
      "\u001b[1;32m~\\AppData\\Local\\Temp/ipykernel_6712/2005498905.py\u001b[0m in \u001b[0;36m<module>\u001b[1;34m\u001b[0m\n\u001b[1;32m----> 1\u001b[1;33m \u001b[0mprint\u001b[0m\u001b[1;33m(\u001b[0m\u001b[1;33m-\u001b[0m\u001b[1;36m3\u001b[0m \u001b[1;33m*\u001b[0m \u001b[1;33m(\u001b[0m\u001b[0mx\u001b[0m\u001b[1;33m**\u001b[0m\u001b[1;36m3\u001b[0m\u001b[1;33m)\u001b[0m \u001b[1;33m+\u001b[0m \u001b[0mx\u001b[0m\u001b[1;33m**\u001b[0m\u001b[1;36m2\u001b[0m \u001b[1;33m+\u001b[0m \u001b[1;36m5\u001b[0m\u001b[1;33m*\u001b[0m\u001b[0mx\u001b[0m\u001b[1;33m)\u001b[0m\u001b[1;33m\u001b[0m\u001b[1;33m\u001b[0m\u001b[0m\n\u001b[0m",
      "\u001b[1;31mNameError\u001b[0m: name 'x' is not defined"
     ]
    }
   ],
   "source": [
    "print(-3 * (x**3) + x**2 + 5*x)"
   ]
  },
  {
   "cell_type": "markdown",
   "metadata": {},
   "source": [
    "What happens if we try to use a variable that hasn't been defined yet? Try executing the following cell."
   ]
  },
  {
   "cell_type": "code",
   "execution_count": null,
   "metadata": {},
   "outputs": [],
   "source": [
    "print(y * 5)"
   ]
  },
  {
   "cell_type": "markdown",
   "metadata": {},
   "source": [
    "Using an undefined variable name results in a NameError. You will most likely encounter this if you have made a mistake typing a variable name, like in the following example."
   ]
  },
  {
   "cell_type": "code",
   "execution_count": null,
   "metadata": {},
   "outputs": [],
   "source": [
    "value = 4\n",
    "print(valu)"
   ]
  },
  {
   "cell_type": "markdown",
   "metadata": {},
   "source": [
    "*Exercise:* calculate the equation below using only variables. \n",
    "\n",
    "$$ -3(5 + 6)^3 + (5 + 6)^2 + 5 \\times(5 + 6)$$\n",
    "\n",
    "First assign each number to a variable.\n",
    "\n",
    "Then write the equation using the variables.\n"
   ]
  },
  {
   "cell_type": "code",
   "execution_count": null,
   "metadata": {},
   "outputs": [],
   "source": [
    "#first define each number as a variable\n",
    "a = 3 #add the rest yourself\n",
    "\n",
    "#then write the equation\n",
    "-a( #complete this line"
   ]
  },
  {
   "cell_type": "markdown",
   "metadata": {},
   "source": [
    "# Operator precedence\n",
    "\n",
    "Sometimes it might not be entirely clear in what order Python does arithmetic operations. For example, look below."
   ]
  },
  {
   "cell_type": "code",
   "execution_count": null,
   "metadata": {},
   "outputs": [],
   "source": [
    "print(5 - 3 ** 2 + 7 * 6 - 4 / 2 + 2)"
   ]
  },
  {
   "cell_type": "markdown",
   "metadata": {},
   "source": [
    "In which order does Python do the additions, subtractions, multiplications, divisions and powers? It turns out that Python uses a similar scheme to normal mathematics. The order in which operations are done is:\n",
    "1. Powers (exponents)\n",
    "2. Multiplication / Division\n",
    "3. Addition / Subtraction.\n",
    "If two operations from the same level follow each other, then Python works from left to right. We say that operations performed first have higher precedence than operations performed later.\n",
    "\n",
    "So, in the above statement, Python will do the calculation as follows:\n",
    "\n",
    "` 5 - 3 ** 2 + 7 * 6 - 4 / 2 + 2 `\n",
    "\n",
    "` 5 - 9 + 7 * 6 - 4 / 2 + 2 `\n",
    "\n",
    "` 5 - 9 + 42 - 2 + 2 ` \n",
    "\n",
    "` 38 `\n",
    "\n",
    "Python has a lot more operators, each with its own precedence level, you can learn more about this [in the Python documentation here.](https://docs.python.org/3/reference/expressions.html#operator-precedence) As an exercise, look just for the operators `+`, `-`, `*`, `/` and `**` for now, you can find out about the others later.\n",
    "\n",
    "Finally, how do we force an operation to be performed first? Just as in mathematics, we can use parentheses `( )` to force a lower precedence operation to be performed first. Compare the following two statements."
   ]
  },
  {
   "cell_type": "code",
   "execution_count": null,
   "metadata": {},
   "outputs": [],
   "source": [
    "print(3 ** 2 + 1)\n",
    "print(3 ** (2 + 1))"
   ]
  },
  {
   "cell_type": "markdown",
   "metadata": {},
   "source": [
    "In the first statement, the exponentiation `**` has higher precedence, so the result is `9 + 1 = 10`. In the second case, we force the addition to be performed first, resulting in `3 ** 3 = 27`.\n",
    "\n",
    "Finally, even though there are clear rules about operator precedence, it is often good style to include parentheses anyway to make code more readable. Consider the following code:"
   ]
  },
  {
   "cell_type": "code",
   "execution_count": null,
   "metadata": {},
   "outputs": [],
   "source": [
    "x = (5 * 6) + (9 / 3) + (10 ** 2)\n",
    "y = 5 * 6 + 9 / 3 + 10 ** 2\n",
    "\n",
    "print(x)\n",
    "print(y)"
   ]
  },
  {
   "cell_type": "markdown",
   "metadata": {},
   "source": [
    "Both calculations give the same result, but the first is much more readable. It's a good habit to clarify the order of operations in this way."
   ]
  },
  {
   "cell_type": "markdown",
   "metadata": {},
   "source": [
    "# Function calls"
   ]
  },
  {
   "cell_type": "markdown",
   "metadata": {},
   "source": [
    "Up until now, we've only worked with `print`, basic mathematical operations and assignments to variables. But there are many more tasks that we'd like Python to perform. Python makes many operations available as `function calls`. These are special statements with the form:\n",
    "\n",
    "` function_name(parameter_1, parameter_2, ..., parameter_n) `\n",
    "\n",
    "In fact, the `print()` statement we have been using is (in Python 3) also function. Look at the code block below."
   ]
  },
  {
   "cell_type": "code",
   "execution_count": null,
   "metadata": {},
   "outputs": [],
   "source": [
    "print()\n",
    "print(1)\n",
    "print(1, 2)\n",
    "print(1, 2, 3 + 5)"
   ]
  },
  {
   "cell_type": "markdown",
   "metadata": {},
   "source": [
    "You can see that `print` takes a varying number of parameters (up to now, we've always used the case where there is one parameter). If you give print no parameters, it just prints a blank line. If you give `print` more than one parameter, it prints the values one after the other. \n",
    "\n",
    "Note that we can actually provide a mathematical expression (in the above case, this was 3 + 5) as parameter to the function. "
   ]
  },
  {
   "cell_type": "markdown",
   "metadata": {},
   "source": [
    "Python provides a vast number of functions to perform all sorts of operations. We're going to start by looking at some of Python's *in-built functions*. These are functions that are always available to the programmer without anything special needing to be done to access them. Here are some examples."
   ]
  },
  {
   "cell_type": "code",
   "execution_count": null,
   "metadata": {},
   "outputs": [],
   "source": [
    "print(abs(-2), abs(5), abs(-3), abs(8)) # abs() calculates the absolute value of its parameter\n",
    "print(max(2, 3), max(5, 3, 1), max(3, 9, 1, 5)) # max() calculates the maximum value amongst its parameters\n",
    "print(min(2, 3), min(5, 3, 1), min(3, 9, 1, 5)) # min() calculates the minimum value amongst its parameters\n",
    "print(round(2.3), round(5.5), round(6.8)) # round() rounds a real number to the closest integer."
   ]
  },
  {
   "cell_type": "markdown",
   "metadata": {},
   "source": [
    "There is a complete list of inbuilt functions in the [Python 3 documentation.](https://docs.python.org/3/library/functions.html#built-in-functions), but there's no need to go through them in detail right now."
   ]
  },
  {
   "cell_type": "markdown",
   "metadata": {},
   "source": [
    "There is another really useful inbuilt function called `help`. We can use `help` to ask for a description of a given function. For example, let's ask for help about the function `abs`, and then `max`"
   ]
  },
  {
   "cell_type": "code",
   "execution_count": null,
   "metadata": {},
   "outputs": [],
   "source": [
    "help(abs)"
   ]
  },
  {
   "cell_type": "code",
   "execution_count": null,
   "metadata": {},
   "outputs": [],
   "source": [
    "help(max)"
   ]
  },
  {
   "cell_type": "markdown",
   "metadata": {},
   "source": [
    "# Building your own functions\n",
    "\n",
    "Sometimes you want to perform the same series of steps on different data. You have two options, either write the same steps each time, or create your own function. A function can be defined as follows:\n",
    "\n",
    "    def your_function_name(param_1, param_2, ..., param_n):\n",
    "        statement_1\n",
    "        statement_2\n",
    "        statement_3\n",
    "        return result # returning a value is optional.\n",
    "    \n",
    "Let's give a small example. If we want to calculate something's square root, we can use the fact that raising something to the power of 0.5 is the same as calculating its square root.\n",
    "\n",
    "We could do this calculation for each value we are interested in as follows:"
   ]
  },
  {
   "cell_type": "code",
   "execution_count": null,
   "metadata": {},
   "outputs": [],
   "source": [
    "print(3 ** 0.5)\n",
    "print(4 ** 0.5)\n",
    "print(36 ** 0.5)\n",
    "print(40 ** 0.5)"
   ]
  },
  {
   "cell_type": "markdown",
   "metadata": {},
   "source": [
    "Or we can define a function that will do the work for us. We will call this function `sqrt`, which is an abbreviation of *square root*"
   ]
  },
  {
   "cell_type": "code",
   "execution_count": null,
   "metadata": {},
   "outputs": [],
   "source": [
    "\n",
    "def sqrt(x):\n",
    "    y = x ** 0.5\n",
    "    return y\n",
    "\n",
    "print(sqrt(3))\n",
    "print(sqrt(4))\n",
    "print(sqrt(36))\n",
    "print(sqrt(40))"
   ]
  },
  {
   "cell_type": "markdown",
   "metadata": {},
   "source": [
    "Notice that we can use `sqrt` now just as we would `print` or `abs`?  Effectively, we've expanded the Python language with a new operation. Sure, we could have used `**0.5` everywhere, but `sqrt` is arguably more readible for later programmers looking at your work. \n",
    "\n",
    "\n",
    "There is an important detail here. Look at the following code block:"
   ]
  },
  {
   "cell_type": "code",
   "execution_count": null,
   "metadata": {},
   "outputs": [],
   "source": [
    "def sqrt(x):\n",
    "y = x ** 0.5\n",
    "return y\n"
   ]
  },
  {
   "cell_type": "markdown",
   "metadata": {},
   "source": [
    "The above code looks basically the same, why the error? Notice that there are spaces missing before the return that were present in the previous definition of `sqrt`? Python uses this space (called *indentation*) to decide what is contained inside the function and where it stops. Each step in a function needs to have this indentation before each statement. Usually, programmers use a single press of the TAB key to add the indentation. Try fixing the above statement by adding a TAB.\n",
    "\n",
    "*Exercise*: In the code block below, build a function called `square` which returns the squared value of the input. Use *x* as the input variable and *y* as the output variable, as in the previous examples."
   ]
  },
  {
   "cell_type": "code",
   "execution_count": null,
   "metadata": {},
   "outputs": [],
   "source": [
    "def square(x):"
   ]
  },
  {
   "cell_type": "markdown",
   "metadata": {},
   "source": [
    "# Multi-line Functions"
   ]
  },
  {
   "cell_type": "markdown",
   "metadata": {},
   "source": [
    "\n",
    "Functions become really handy once you use them to replace a lot of statements, as in the following.\n",
    "\n",
    "$$ f(x) = ax^2 + bx + c $$\n",
    "\n",
    "setting $ f(x) = 0 $ implies the familiar formula for roots of a quadratic equation\n",
    "\n",
    "$$ x = \\frac{-b\\pm\\sqrt{b^2-4ac}}{2a} $$\n",
    "\n",
    "We can define a function to calculate one of the roots as below:"
   ]
  },
  {
   "cell_type": "code",
   "execution_count": null,
   "metadata": {},
   "outputs": [],
   "source": [
    "def calc_roots(a, b, c):\n",
    "    \n",
    "    delta = b**2 - 4 * a * c\n",
    "    \n",
    "    root1 = ((-b) + sqrt(delta)) / (2*a)\n",
    "    root2 = ((-b) - sqrt(delta)) / (2*a)\n",
    "    return root1, root2\n",
    "    \n",
    "print(calc_roots(1, 0, -1)) # x**2 - 1 = (x + 1)(x - 1)\n",
    "print(calc_roots(1, 2, 1)) # x**2 + 2x + 1 = (x + 1)(x + 1)\n",
    "print(calc_roots(1, 10, 24)) # x**2 + 10x + 24 = (x + 6)(x + 4)\n",
    "print(calc_roots(2, 20, 48)) # 2(x**2 + 10x + 24) = x**2 + 20x + 44 = 2(x + 6)(x + 4)"
   ]
  },
  {
   "cell_type": "markdown",
   "metadata": {},
   "source": [
    "Above you can see how each polynomial's roots are calculated. Note that we are actually returning *two* values from the function. In Python, this is possible. We can even assign the multiple values to multiple variables, as shown below:"
   ]
  },
  {
   "cell_type": "code",
   "execution_count": null,
   "metadata": {},
   "outputs": [],
   "source": [
    "r1, r2 = calc_roots(1, 10, 24)\n",
    "print(r1)\n",
    "print(r2)"
   ]
  },
  {
   "cell_type": "markdown",
   "metadata": {},
   "source": [
    "Finally, it's worth pointing out that you don't have to use `return` at the end of your function if you dont need to. For example, in the following function, we only want to print the argument three times. "
   ]
  },
  {
   "cell_type": "code",
   "execution_count": null,
   "metadata": {},
   "outputs": [],
   "source": [
    "def print_3_times(a):\n",
    "    print(a)\n",
    "    print(a)\n",
    "    print(a)\n",
    "    \n",
    "print_3_times(3)\n",
    "print_3_times(5)"
   ]
  },
  {
   "cell_type": "markdown",
   "metadata": {},
   "source": [
    "As you can see, no return statement is necessary, the function has done its job of printing the parameter `a` three times. "
   ]
  },
  {
   "cell_type": "markdown",
   "metadata": {},
   "source": [
    "Finally, another note on indentation. Let's try messing the indentation and see what happens."
   ]
  },
  {
   "cell_type": "code",
   "execution_count": null,
   "metadata": {},
   "outputs": [],
   "source": [
    "def calc_roots(a, b, c):\n",
    "    \n",
    "    delta = b**2 - 4 * a * c\n",
    "    \n",
    "        root1 = ((-b) + sqrt(delta)) / (2*a)\n",
    "    root2 = ((-b) - sqrt(delta)) / (2*a)\n",
    "    return root1, root2\n"
   ]
  },
  {
   "cell_type": "markdown",
   "metadata": {},
   "source": [
    "As you can see, the extra indentation breaks the function definition. So, you have to be sure that your indentations levels are consistent.\n",
    "\n",
    "*Exercise:* Fix the code in the cell below so that it works again.\n"
   ]
  },
  {
   "cell_type": "code",
   "execution_count": null,
   "metadata": {},
   "outputs": [],
   "source": [
    "def calc_roots(a, b, c):\n",
    "    \n",
    "    delta = b**2 - 4 * a * c\n",
    "    \n",
    "        root1 = ((-b) + sqrt(delta)) / (2*a)\n",
    "    root2 = ((-b) - sqrt(delta)) / (2*a)\n",
    "    return root1, root2\n"
   ]
  },
  {
   "cell_type": "markdown",
   "metadata": {},
   "source": [
    "# Libraries of functions"
   ]
  },
  {
   "cell_type": "markdown",
   "metadata": {},
   "source": [
    "We talked a bit about builtin functions like `abs` and `max` earlier. Those are always available to programmers. But, there are actually many, many more functions that Python provides for programmers. They are not always available, but you can request Python to make them available using the `import` statement. \n",
    "\n",
    "For example, there's a set of mathematical functions made available in a library called `math`. We can ask for access to it by using the statement."
   ]
  },
  {
   "cell_type": "code",
   "execution_count": 6,
   "metadata": {},
   "outputs": [],
   "source": [
    "import math"
   ]
  },
  {
   "cell_type": "markdown",
   "metadata": {},
   "source": [
    "Suddenly, we are able to now use functions inside the `math` library, see below:"
   ]
  },
  {
   "cell_type": "code",
   "execution_count": null,
   "metadata": {},
   "outputs": [],
   "source": [
    "print(math.log10(100)) # Calculates the logarithm of 100 (using the base 10 logarithm)\n",
    "print(math.factorial(5)) # Calculates 5! = 1*2*3*4*5\n",
    "print(math.sqrt(25)) #Calculates the square root of 25 = 25 ** 0.5\n"
   ]
  },
  {
   "cell_type": "markdown",
   "metadata": {},
   "source": [
    "As you can see, the `math` module already contains a function `sqrt()` for calculating the square root of the input value. So remember that you never have to build your own `sqrt()` function agian!\n",
    "\n",
    "`math` also includes some handy constants like $\\pi$ and $e$."
   ]
  },
  {
   "cell_type": "code",
   "execution_count": null,
   "metadata": {},
   "outputs": [],
   "source": [
    "print(math.pi)\n",
    "print(math.e)"
   ]
  },
  {
   "cell_type": "markdown",
   "metadata": {},
   "source": [
    "You can use these constants as part of your calculations now."
   ]
  },
  {
   "cell_type": "code",
   "execution_count": null,
   "metadata": {},
   "outputs": [],
   "source": [
    "print(math.cos(math.pi)) # Calculates cos(pi). The angle has to be in radians, not degrees."
   ]
  },
  {
   "cell_type": "markdown",
   "metadata": {},
   "source": [
    "There's a *HUGE* number of such standard libraries in Python. You can [look at all of them at this link.](https://docs.python.org/3/library/) . You can look at the functionality of specific modules [like that of the math library at this link](https://docs.python.org/3/library/math.html).\n",
    "\n",
    "\n",
    "There's functionality there for all sorts of complex tasks. Here are just a few interesting examples."
   ]
  },
  {
   "cell_type": "code",
   "execution_count": null,
   "metadata": {},
   "outputs": [],
   "source": [
    "import datetime                # A module for dealing with dates and times.\n",
    "print(datetime.datetime.now()) # Prints out the current date and time"
   ]
  },
  {
   "cell_type": "code",
   "execution_count": null,
   "metadata": {},
   "outputs": [],
   "source": [
    "import os            # A module for dealing with the operating system\n",
    "print(os.listdir())  # Lists all of the files and subdirectories in the current directory."
   ]
  },
  {
   "cell_type": "code",
   "execution_count": 7,
   "metadata": {},
   "outputs": [
    {
     "name": "stdout",
     "output_type": "stream",
     "text": [
      "b'<!doctype html><html itemscope=\"\" itemtype=\"http://schema.org/WebPage\" lang=\"nl\"><head><meta content=\"text/html; charset=UTF-8\" http-equiv=\"Content-Type\"><meta content=\"/images/branding/googleg/1x/googleg_standard_color_128dp.png\" itemprop=\"image\"><title>Google</title><script nonce=\"x2EORQvi16e17VIJryGxeg==\">(function(){window.google={kEI:\\'md5nYbDBF7uA9u8P9I-JuAY\\',kEXPI:\\'0,1302536,56873,6058,207,2415,2389,2316,383,246,5,1354,4012,1239,1122515,1197757,134,510,328866,51224,16114,28684,17572,4859,1361,9290,3025,17584,4998,13228,3847,4192,6430,19044,2778,919,2372,2709,885,708,1279,2212,530,149,1103,840,1983,4314,4120,2023,1777,520,14670,3227,2845,7,12354,5096,16320,908,2,941,15756,3,346,230,6459,149,12314,1661,4,1253,275,2304,1236,10487,2014,13611,4764,2658,6701,656,30,5616,48,7964,2305,638,18280,2522,3290,2545,4094,17,3121,6,908,3,3541,1,11942,2768,1814,283,912,5998,16722,1715,2,14022,1931,4071,1518,744,5852,1576,3,8884,1160,1267,2925,2508,2380,2718,5191,4831,4635,3604,2,1,12,167,2,7578,2125,2444,242,2335,3136,274,271,2469,545,3,997,2,1,3,2612,52,3094,720,2,2388,5509,231,2172,1579,2731,1735,1569,1630,805,385,433,505,883,723,1185,83,646,2007,640,429,2487,3,835,308,241,375,2,1025,273,545,2,532,76,57,5,4,2,2,1,215,1253,41,368,465,468,902,253,146,6,209,277,81,331,995,4,38,39,715,222,137,67,131,828,463,285,687,726,60,449,589,260,256,228,1,1,331,142,39,608,5557896,101,345,161,153,14,1802561,4193979,2800697,882,444,1,2,80,1,1796,1,9,2553,1,748,141,795,563,1,4265,1,1,2,1331,4142,2609,155,17,13,72,139,4,2,20,2,169,13,19,46,5,39,96,548,29,2,2,1,2,1,2,2,7,4,1,2,2,2,2,2,2,353,513,186,1,1,158,3,2,2,2,2,2,4,2,3,3,269,465,86,15,10,3,3,4,2,93,4,4,122,6,29,5,8,6,4,22,12,3,1,9,20,40,23953747,2862027,1176543,3,2778,338,3,2414,1491,9,1435,157,1360,291,117,723,429,1146,513,344,1724,425\\',kBL:\\'axRp\\'};google.sn=\\'webhp\\';google.kHL=\\'nl\\';})();(function(){\\nvar f=this||self;var h,k=[];function l(a){for(var b;a&&(!a.getAttribute||!(b=a.getAttribute(\"eid\")));)a=a.parentNode;return b||h}function m(a){for(var b=null;a&&(!a.getAttribute||!(b=a.getAttribute(\"leid\")));)a=a.parentNode;return b}\\nfunction n(a,b,c,d,g){var e=\"\";c||-1!==b.search(\"&ei=\")||(e=\"&ei=\"+l(d),-1===b.search(\"&lei=\")&&(d=m(d))&&(e+=\"&lei=\"+d));d=\"\";!c&&f._cshid&&-1===b.search(\"&cshid=\")&&\"slh\"!==a&&(d=\"&cshid=\"+f._cshid);c=c||\"/\"+(g||\"gen_204\")+\"?atyp=i&ct=\"+a+\"&cad=\"+b+e+\"&zx=\"+Date.now()+d;/^http:/i.test(c)&&\"https:\"===window.location.protocol&&(google.ml&&google.ml(Error(\"a\"),!1,{src:c,glmm:1}),c=\"\");return c};h=google.kEI;google.getEI=l;google.getLEI=m;google.ml=function(){return null};google.log=function(a,b,c,d,g){if(c=n(a,b,c,d,g)){a=new Image;var e=k.length;k[e]=a;a.onerror=a.onload=a.onabort=function(){delete k[e]};a.src=c}};google.logUrl=n;}).call(this);(function(){\\ngoogle.y={};google.sy=[];google.x=function(a,b){if(a)var c=a.id;else{do c=Math.random();while(google.y[c])}google.y[c]=[a,b];return!1};google.sx=function(a){google.sy.push(a)};google.lm=[];google.plm=function(a){google.lm.push.apply(google.lm,a)};google.lq=[];google.load=function(a,b,c){google.lq.push([[a],b,c])};google.loadAll=function(a,b){google.lq.push([a,b])};google.bx=!1;google.lx=function(){};}).call(this);google.f={};(function(){\\ndocument.documentElement.addEventListener(\"submit\",function(b){var a;if(a=b.target){var c=a.getAttribute(\"data-submitfalse\");a=\"1\"===c||\"q\"===c&&!a.elements.q.value?!0:!1}else a=!1;a&&(b.preventDefault(),b.stopPropagation())},!0);document.documentElement.addEventListener(\"click\",function(b){var a;a:{for(a=b.target;a&&a!==document.documentElement;a=a.parentElement)if(\"A\"===a.tagName){a=\"1\"===a.getAttribute(\"data-nohref\");break a}a=!1}a&&b.preventDefault()},!0);}).call(this);</script><style>#gbar,#guser{font-size:13px;padding-top:1px !important;}#gbar{height:22px}#guser{padding-bottom:7px !important;text-align:right}.gbh,.gbd{border-top:1px solid #c9d7f1;font-size:1px}.gbh{height:0;position:absolute;top:24px;width:100%}@media all{.gb1{height:22px;margin-right:.5em;vertical-align:top}#gbar{float:left}}a.gb1,a.gb4{text-decoration:underline !important}a.gb1,a.gb4{color:#00c !important}.gbi .gb4{color:#dd8e27 !important}.gbf .gb4{color:#900 !important}\\n</style><style>body,td,a,p,.h{font-family:arial,sans-serif}body{margin:0;overflow-y:scroll}#gog{padding:3px 8px 0}td{line-height:.8em}.gac_m td{line-height:17px}form{margin-bottom:20px}.h{color:#1558d6}em{font-weight:bold;font-style:normal}.lst{height:25px;width:496px}.gsfi,.lst{font:18px arial,sans-serif}.gsfs{font:17px arial,sans-serif}.ds{display:inline-box;display:inline-block;margin:3px 0 4px;margin-left:4px}input{font-family:inherit}body{background:#fff;color:#000}a{color:#4b11a8;text-decoration:none}a:hover,a:active{text-decoration:underline}.fl a{color:#1558d6}a:visited{color:#4b11a8}.sblc{padding-top:5px}.sblc a{display:block;margin:2px 0;margin-left:13px;font-size:11px}.lsbb{background:#f8f9fa;border:solid 1px;border-color:#dadce0 #70757a #70757a #dadce0;height:30px}.lsbb{display:block}#WqQANb a{display:inline-block;margin:0 12px}.lsb{background:url(/images/nav_logo229.png) 0 -261px repeat-x;border:none;color:#000;cursor:pointer;height:30px;margin:0;outline:0;font:15px arial,sans-serif;vertical-align:top}.lsb:active{background:#dadce0}.lst:focus{outline:none}</style><script nonce=\"x2EORQvi16e17VIJryGxeg==\">(function(){window.google.erd={sp:\\'hp\\',jsr:0,bv:1457};\\nvar f=this||self;var g,h,k=null!==(g=f.mei)&&void 0!==g?g:1,l=null!==(h=f.sdo)&&void 0!==h?h:!0,n=0,p,q=google.erd,t=q.jsr;google.ml=function(a,b,e,m,d){d=void 0===d?2:d;b&&(p=a&&a.message);if(google.dl)return google.dl(a,d,e),null;if(0>t){window.console&&console.error(a,e);if(-2===t)throw a;b=!1}else b=!a||!a.message||\"Error loading script\"===a.message||n>=k&&!m?!1:!0;if(!b)return null;n++;e=e||{};b=encodeURIComponent;var c=\"/gen_204?atyp=i&ei=\"+b(google.kEI);google.kEXPI&&(c+=\"&jexpid=\"+b(google.kEXPI));c+=\"&srcpg=\"+b(q.sp)+\"&jsr=\"+b(q.jsr)+\"&bver=\"+b(q.bv)+(\"&jsel=\"+d);c+=\"&sn=\"+b(google.sn);for(var r in e)c+=\"&\",c+=b(r),c+=\"=\",c+=b(e[r]);c=c+\"&emsg=\"+b(a.name+\": \"+a.message);c=c+\"&jsst=\"+b(a.stack||\"N/A\");12288<=c.length&&(c=c.substr(0,12288));a=c;m||google.log(0,\"\",a);return a};window.onerror=function(a,b,e,m,d){p!==a&&google.ml(d instanceof Error?d:Error(a),!1,void 0,!1,!d||d instanceof SyntaxError?2:0);p=null;l&&n>=k&&(window.onerror=null)};})();</script></head><body bgcolor=\"#fff\"><script nonce=\"x2EORQvi16e17VIJryGxeg==\">(function(){var src=\\'/images/nav_logo229.png\\';var iesg=false;document.body.onload = function(){window.n && window.n();if (document.images){new Image().src=src;}\\nif (!iesg){document.f&&document.f.q.focus();document.gbqf&&document.gbqf.q.focus();}\\n}\\n})();</script><div id=\"mngb\"><div id=gbar><nobr><b class=gb1>Zoeken</b> <a class=gb1 href=\"http://www.google.nl/imghp?hl=nl&tab=wi\">Afbeeldingen</a> <a class=gb1 href=\"http://maps.google.nl/maps?hl=nl&tab=wl\">Maps</a> <a class=gb1 href=\"https://play.google.com/?hl=nl&tab=w8\">Play</a> <a class=gb1 href=\"http://www.youtube.com/?gl=NL&tab=w1\">YouTube</a> <a class=gb1 href=\"https://news.google.com/?tab=wn\">Nieuws</a> <a class=gb1 href=\"https://mail.google.com/mail/?tab=wm\">Gmail</a> <a class=gb1 href=\"https://drive.google.com/?tab=wo\">Drive</a> <a class=gb1 style=\"text-decoration:none\" href=\"https://www.google.nl/intl/nl/about/products?tab=wh\"><u>Meer</u> &raquo;</a></nobr></div><div id=guser width=100%><nobr><span id=gbn class=gbi></span><span id=gbf class=gbf></span><span id=gbe></span><a href=\"http://www.google.nl/history/optout?hl=nl\" class=gb4>Webgeschiedenis</a> | <a  href=\"/preferences?hl=nl\" class=gb4>Instellingen</a> | <a target=_top id=gb_70 href=\"https://accounts.google.com/ServiceLogin?hl=nl&passive=true&continue=http://www.google.com/&ec=GAZAAQ\" class=gb4>Inloggen</a></nobr></div><div class=gbh style=left:0></div><div class=gbh style=right:0></div></div><center><br clear=\"all\" id=\"lgpd\"><div id=\"lga\"><img alt=\"Google\" height=\"92\" src=\"/images/branding/googlelogo/1x/googlelogo_white_background_color_272x92dp.png\" style=\"padding:28px 0 14px\" width=\"272\" id=\"hplogo\"><br><br></div><form action=\"/search\" name=\"f\"><table cellpadding=\"0\" cellspacing=\"0\"><tr valign=\"top\"><td width=\"25%\">&nbsp;</td><td align=\"center\" nowrap=\"\"><input name=\"ie\" value=\"ISO-8859-1\" type=\"hidden\"><input value=\"nl\" name=\"hl\" type=\"hidden\"><input name=\"source\" type=\"hidden\" value=\"hp\"><input name=\"biw\" type=\"hidden\"><input name=\"bih\" type=\"hidden\"><div class=\"ds\" style=\"height:32px;margin:4px 0\"><input class=\"lst\" style=\"margin:0;padding:5px 8px 0 6px;vertical-align:top;color:#000\" autocomplete=\"off\" value=\"\" title=\"Google zoeken\" maxlength=\"2048\" name=\"q\" size=\"57\"></div><br style=\"line-height:0\"><span class=\"ds\"><span class=\"lsbb\"><input class=\"lsb\" value=\"Google zoeken\" name=\"btnG\" type=\"submit\"></span></span><span class=\"ds\"><span class=\"lsbb\"><input class=\"lsb\" id=\"tsuid1\" value=\"Ik doe een gok\" name=\"btnI\" type=\"submit\"><script nonce=\"x2EORQvi16e17VIJryGxeg==\">(function(){var id=\\'tsuid1\\';document.getElementById(id).onclick = function(){if (this.form.q.value){this.checked = 1;if (this.form.iflsig)this.form.iflsig.disabled = false;}\\nelse top.location=\\'/doodles/\\';};})();</script><input value=\"ALs-wAMAAAAAYWfsqUcx8tpsuT77TOfY6nvX0wSNPzlv\" name=\"iflsig\" type=\"hidden\"></span></span></td><td class=\"fl sblc\" align=\"left\" nowrap=\"\" width=\"25%\"><a href=\"/advanced_search?hl=nl&amp;authuser=0\">Geavanceerd zoeken</a></td></tr></table><input id=\"gbv\" name=\"gbv\" type=\"hidden\" value=\"1\"><script nonce=\"x2EORQvi16e17VIJryGxeg==\">(function(){\\nvar a,b=\"1\";if(document&&document.getElementById)if(\"undefined\"!=typeof XMLHttpRequest)b=\"2\";else if(\"undefined\"!=typeof ActiveXObject){var c,d,e=[\"MSXML2.XMLHTTP.6.0\",\"MSXML2.XMLHTTP.3.0\",\"MSXML2.XMLHTTP\",\"Microsoft.XMLHTTP\"];for(c=0;d=e[c++];)try{new ActiveXObject(d),b=\"2\"}catch(h){}}a=b;if(\"2\"==a&&-1==location.search.indexOf(\"&gbv=2\")){var f=google.gbvu,g=document.getElementById(\"gbv\");g&&(g.value=a);f&&window.setTimeout(function(){location.href=f},0)};}).call(this);</script></form><div id=\"gac_scont\"></div><div style=\"font-size:83%;min-height:3.5em\"><br><div id=\"gws-output-pages-elements-homepage_additional_languages__als\"><style>#gws-output-pages-elements-homepage_additional_languages__als{font-size:small;margin-bottom:24px}#SIvCob{color:#3c4043;display:inline-block;line-height:28px;}#SIvCob a{padding:0 3px;}.H6sW5{display:inline-block;margin:0 2px;white-space:nowrap}.z4hgWe{display:inline-block;margin:0 2px}</style><div id=\"SIvCob\">Google aangeboden in:  <a href=\"http://www.google.com/setprefs?sig=0_kKVLzK0R1tqxJOtWrfM3Jo-AsEo%3D&amp;hl=fy&amp;source=homepage&amp;sa=X&amp;ved=0ahUKEwjw8d_issnzAhU7gP0HHfRHAmcQ2ZgBCAU\">Frysk</a>  </div></div></div><span id=\"footer\"><div style=\"font-size:10pt\"><div style=\"margin:19px auto;text-align:center\" id=\"WqQANb\"><a href=\"/intl/nl/ads/\">Advertentieprogramma\\'s</a><a href=\"http://www.google.nl/intl/nl/services/\">Bedrijfsoplossingen</a><a href=\"/intl/nl/about.html\">Alles over Google</a><a href=\"http://www.google.com/setprefdomain?prefdom=NL&amp;prev=http://www.google.nl/&amp;sig=K__RbO_V67KbHXiXONL7byZNkZR4s%3D\">Google.nl</a></div></div><p style=\"font-size:8pt;color:#70757a\">&copy; 2021 - <a href=\"/intl/nl/policies/privacy/\">Privacy</a> - <a href=\"/intl/nl/policies/terms/\">Voorwaarden</a></p></span></center><script nonce=\"x2EORQvi16e17VIJryGxeg==\">(function(){window.google.cdo={height:757,width:1440};(function(){\\nvar a=window.innerWidth,b=window.innerHeight;if(!a||!b){var c=window.document,d=\"CSS1Compat\"==c.compatMode?c.documentElement:c.body;a=d.clientWidth;b=d.clientHeight}a&&b&&(a!=google.cdo.width||b!=google.cdo.height)&&google.log(\"\",\"\",\"/client_204?&atyp=i&biw=\"+a+\"&bih=\"+b+\"&ei=\"+google.kEI);}).call(this);})();</script> <script nonce=\"x2EORQvi16e17VIJryGxeg==\">(function(){google.xjs={ck:\\'\\',cs:\\'\\',excm:[]};})();</script>  <script nonce=\"x2EORQvi16e17VIJryGxeg==\">(function(){var u=\\'/xjs/_/js/k\\\\x3dxjs.hp.en.9df-306HNuM.O/am\\\\x3dAPgEWA/d\\\\x3d1/ed\\\\x3d1/rs\\\\x3dACT90oH32H1ZEA9_tJbag45aUi-ZwrNQsA/m\\\\x3dsb_he,d\\';\\nvar e=this||self,f=function(a){return a};\\nvar g;var l=function(a,b){this.g=b===h?a:\"\"};l.prototype.toString=function(){return this.g+\"\"};var h={};function m(){var a=u;google.lx=function(){n(a);google.lx=function(){}};google.bx||google.lx()}\\nfunction n(a){google.timers&&google.timers.load&&google.tick&&google.tick(\"load\",\"xjsls\");var b=document;var c=\"SCRIPT\";\"application/xhtml+xml\"===b.contentType&&(c=c.toLowerCase());c=b.createElement(c);if(void 0===g){b=null;var k=e.trustedTypes;if(k&&k.createPolicy){try{b=k.createPolicy(\"goog#html\",{createHTML:f,createScript:f,createScriptURL:f})}catch(p){e.console&&e.console.error(p.message)}g=b}else g=b}a=(b=g)?b.createScriptURL(a):a;a=new l(a,h);c.src=a instanceof l&&a.constructor===l?a.g:\"type_error:TrustedResourceUrl\";var d;a=(c.ownerDocument&&c.ownerDocument.defaultView||window).document;(d=(b=null===(d=a.querySelector)||void 0===d?void 0:d.call(a,\"script[nonce]\"))?b.nonce||b.getAttribute(\"nonce\")||\"\":\"\")&&c.setAttribute(\"nonce\",d);document.body.appendChild(c);google.psa=!0};setTimeout(function(){m()},0);})();(function(){window.google.xjsu=\\'/xjs/_/js/k\\\\x3dxjs.hp.en.9df-306HNuM.O/am\\\\x3dAPgEWA/d\\\\x3d1/ed\\\\x3d1/rs\\\\x3dACT90oH32H1ZEA9_tJbag45aUi-ZwrNQsA/m\\\\x3dsb_he,d\\';})();function _DumpException(e){throw e;}\\nfunction _F_installCss(c){}\\n(function(){google.jl={attn:false,blt:\\'none\\',chnk:0,dw:false,dwu:true,emtn:0,end:0,ine:false,lls:\\'default\\',pdt:0,rep:0,snet:true,strt:0,ubm:false,uwp:true};})();(function(){var pmc=\\'{\\\\x22d\\\\x22:{},\\\\x22sb_he\\\\x22:{\\\\x22agen\\\\x22:true,\\\\x22cgen\\\\x22:true,\\\\x22client\\\\x22:\\\\x22heirloom-hp\\\\x22,\\\\x22dh\\\\x22:true,\\\\x22dhqt\\\\x22:true,\\\\x22ds\\\\x22:\\\\x22\\\\x22,\\\\x22ffql\\\\x22:\\\\x22en\\\\x22,\\\\x22fl\\\\x22:true,\\\\x22host\\\\x22:\\\\x22google.com\\\\x22,\\\\x22isbh\\\\x22:28,\\\\x22jsonp\\\\x22:true,\\\\x22msgs\\\\x22:{\\\\x22cibl\\\\x22:\\\\x22Zoekopdracht wissen\\\\x22,\\\\x22dym\\\\x22:\\\\x22Bedoelde je:\\\\x22,\\\\x22lcky\\\\x22:\\\\x22Ik doe een gok\\\\x22,\\\\x22lml\\\\x22:\\\\x22Meer informatie\\\\x22,\\\\x22oskt\\\\x22:\\\\x22Invoertools\\\\x22,\\\\x22psrc\\\\x22:\\\\x22Deze zoekopdracht is verwijderd uit je \\\\\\\\u003Ca href\\\\x3d\\\\\\\\\\\\x22/history\\\\\\\\\\\\x22\\\\\\\\u003EWebgeschiedenis\\\\\\\\u003C/a\\\\\\\\u003E\\\\x22,\\\\x22psrl\\\\x22:\\\\x22Verwijderen\\\\x22,\\\\x22sbit\\\\x22:\\\\x22Zoeken op afbeelding\\\\x22,\\\\x22srch\\\\x22:\\\\x22Google zoeken\\\\x22},\\\\x22ovr\\\\x22:{},\\\\x22pq\\\\x22:\\\\x22\\\\x22,\\\\x22refpd\\\\x22:true,\\\\x22rfs\\\\x22:[],\\\\x22sbas\\\\x22:\\\\x220 3px 8px 0 rgba(0,0,0,0.2),0 0 0 1px rgba(0,0,0,0.08)\\\\x22,\\\\x22sbpl\\\\x22:16,\\\\x22sbpr\\\\x22:16,\\\\x22scd\\\\x22:10,\\\\x22stok\\\\x22:\\\\x22H4S8Fq_66rxOoSgs5cxVlOqWlXQ\\\\x22,\\\\x22uhde\\\\x22:false}}\\';google.pmc=JSON.parse(pmc);})();</script>        </body></html>'\n"
     ]
    }
   ],
   "source": [
    "import urllib         # A library for easily downloading data given a url\n",
    "import urllib.request # Note here it is possible to have modules within modules!\n",
    "\n",
    "response = urllib.request.urlopen(\"http://www.google.com\") # Downloads Google's main webpage.\n",
    "print(response.read()) # Prints the data returned. Note that this is in HTML, which is the format that web browsers understand."
   ]
  },
  {
   "cell_type": "markdown",
   "metadata": {},
   "source": [
    "From the comic [XKCD](https://xkcd.com/353/)."
   ]
  },
  {
   "cell_type": "markdown",
   "metadata": {},
   "source": [
    "![](https://imgs.xkcd.com/comics/python.png)"
   ]
  },
  {
   "cell_type": "markdown",
   "metadata": {},
   "source": [
    "# Working with series of numbers"
   ]
  },
  {
   "cell_type": "markdown",
   "metadata": {},
   "source": [
    "In our work, we will constantly be using series of numbers to represent things like images. So, how does Python handle these? There are two built-in types for representing series in Python. They are lists, which are defined using square brackets `[]`..."
   ]
  },
  {
   "cell_type": "code",
   "execution_count": null,
   "metadata": {},
   "outputs": [],
   "source": [
    "nums1 = [1,3,6,8] # Defines a list containing 1, 3, 6 and 8\n",
    "\n",
    "print(type(nums1))# Print the type of the variable nums1 (it should be a list)\n",
    "\n",
    "print(nums1)      # Prints the entire list\n",
    "print(nums1[0])   # Prints just the first number in the list (note! [0] is used to access the FIRST element)\n",
    "print(nums1[1])   # Prints just the second number in the list (note! [1] is used to access the SECOND element)\n",
    "print(nums1[2])   # Prints just the third number in the list\n",
    "print(nums1[3])   # Prints just the fourth number in the list\n",
    "\n",
    "print(len(nums1)) # Prints the length of the list (4, because there are 4 items)"
   ]
  },
  {
   "cell_type": "markdown",
   "metadata": {},
   "source": [
    "... and tuples. Python also allows the definition of `tuples`,  defined using round brackets. Note that the above code can be used as is, but with "
   ]
  },
  {
   "cell_type": "code",
   "execution_count": null,
   "metadata": {},
   "outputs": [],
   "source": [
    "nums1 = (1,3,6,8) # Defines a tuple containing 1, 3, 6 and 8\n",
    "\n",
    "print(type(nums1))# Print the type of the variable nums1 (it should be a tuple)\n",
    "\n",
    "print(nums1)      # Prints the entire tuple\n",
    "print(nums1[0])   # Prints just the first number in the tuple (note! [0] is used to access the FIRST element)\n",
    "print(nums1[1])   # Prints just the second number in the tuple (note! [1] is used to access the FIRST element)\n",
    "print(nums1[2])   # Prints just the third number in the tuple\n",
    "print(nums1[3])   # Prints just the fourth number in the tuple\n",
    "\n",
    "print(len(nums1)) # Prints the length of the tuple (4, because there are 4 items)"
   ]
  },
  {
   "cell_type": "markdown",
   "metadata": {},
   "source": [
    "What's the difference between lists and tuples? You can actually make changes to an existing list using assignment as below."
   ]
  },
  {
   "cell_type": "code",
   "execution_count": null,
   "metadata": {},
   "outputs": [],
   "source": [
    "nums1 = [1,3,6,8] # Defines a list containing 1, 3, 6 and 8\n",
    "nums1[2] = 10\n",
    "print(nums1)"
   ]
  },
  {
   "cell_type": "markdown",
   "metadata": {},
   "source": [
    "*Exercise:* change the code above so that the second element of the nums1 list is changed to the value 10.\n",
    "\n",
    "\n",
    "Now let's try to adjust the tuple in the same way as we just adjusted the list:"
   ]
  },
  {
   "cell_type": "code",
   "execution_count": null,
   "metadata": {},
   "outputs": [],
   "source": [
    "nums1 = (1,3,6,8) # Defines a tuple containing 1, 3, 6 and 8\n",
    "nums1[2] = 10\n",
    "print(nums1)"
   ]
  },
  {
   "cell_type": "markdown",
   "metadata": {},
   "source": [
    "Why have tuples at all then? It turns out tuples are handy exactly because they can't be changed. Once a tuple has been created, we are guaranteed that no other part of the program can ever change its contents. This is useful when you have really big programs worked on by multiple people. With lists, different people's parts of the program can interact in unexpected way if one of them changes the list. A tuple can't be changed, so we don't have to worry about that happening. "
   ]
  },
  {
   "cell_type": "markdown",
   "metadata": {},
   "source": [
    "Now, we are most interested in performing calculations on series of numbers. Let's try multiplying every number in a list by 5."
   ]
  },
  {
   "cell_type": "code",
   "execution_count": null,
   "metadata": {},
   "outputs": [],
   "source": [
    "print([1, 2, 3] * 5)"
   ]
  },
  {
   "cell_type": "markdown",
   "metadata": {},
   "source": [
    "Mmm, that's not what we wanted. Instead of multiplying each list item by 5, we have created a list which is 5 copies of the same sequence of elements 1, 2 and 3. \n",
    "\n",
    "What about adding together the corresponding elements in two lists..."
   ]
  },
  {
   "cell_type": "code",
   "execution_count": null,
   "metadata": {},
   "outputs": [],
   "source": [
    "print([1, 2, 3] + [7, 6, 5])"
   ]
  },
  {
   "cell_type": "markdown",
   "metadata": {},
   "source": [
    "Mmm, that's not what we wanted either (ideally, we wanted [8, 8, 8]), instead Python joins (concatenates) the lists together.\n",
    "\n",
    "This behaviour makes more sense when you look at the history of how Python developed. Initially, Python was not really used primarily for big numerical calculations. Instead, lists and tuples were really just collections of items of interest. They can actually contain any kind of data as elements, not just numbers. For example, the following list contains as its three elements the number 1, the message \"hello world\" and the current date and time."
   ]
  },
  {
   "cell_type": "code",
   "execution_count": null,
   "metadata": {},
   "outputs": [],
   "source": [
    "print([1, \"hello world\", datetime.datetime.now()])"
   ]
  },
  {
   "cell_type": "markdown",
   "metadata": {},
   "source": [
    "Now, think about the list `[1, \"hello world\", datetime.datetime.now()]` and multiplying it by 5. It doesn't really make sense to think about numerically multiplying each item in the list, since only one of the elements is a number! So, Python instead defines something more sensible for list multiplication, creating copies of the same sequence in the list."
   ]
  },
  {
   "cell_type": "markdown",
   "metadata": {},
   "source": [
    "So, how are we going to deal with sequences of numbers? Luckily there is a very popular and useful module for exactly this purpose called [Numpy](http://www.numpy.org/). We can use numpy to define `arrays`, which were specifically designed to store series (vectors) of numbers. To build an array, you pass a list of numbers to `numpy.array` (remember to `import` the module `numpy`!)"
   ]
  },
  {
   "cell_type": "code",
   "execution_count": 2,
   "metadata": {},
   "outputs": [
    {
     "ename": "ModuleNotFoundError",
     "evalue": "No module named 'numpy'",
     "output_type": "error",
     "traceback": [
      "\u001b[1;31m---------------------------------------------------------------------------\u001b[0m",
      "\u001b[1;31mModuleNotFoundError\u001b[0m                       Traceback (most recent call last)",
      "\u001b[1;32m~\\AppData\\Local\\Temp/ipykernel_10880/328464619.py\u001b[0m in \u001b[0;36m<module>\u001b[1;34m\u001b[0m\n\u001b[1;32m----> 1\u001b[1;33m \u001b[1;32mimport\u001b[0m \u001b[0mnumpy\u001b[0m\u001b[1;33m\u001b[0m\u001b[1;33m\u001b[0m\u001b[0m\n\u001b[0m\u001b[0;32m      2\u001b[0m \u001b[1;33m\u001b[0m\u001b[0m\n\u001b[0;32m      3\u001b[0m \u001b[0mprint\u001b[0m\u001b[1;33m(\u001b[0m\u001b[0mnumpy\u001b[0m\u001b[1;33m.\u001b[0m\u001b[0marray\u001b[0m\u001b[1;33m(\u001b[0m\u001b[1;33m[\u001b[0m\u001b[1;36m1\u001b[0m\u001b[1;33m,\u001b[0m\u001b[1;36m2\u001b[0m\u001b[1;33m,\u001b[0m\u001b[1;36m3\u001b[0m\u001b[1;33m]\u001b[0m\u001b[1;33m)\u001b[0m \u001b[1;33m*\u001b[0m \u001b[1;36m5\u001b[0m\u001b[1;33m)\u001b[0m\u001b[1;33m\u001b[0m\u001b[1;33m\u001b[0m\u001b[0m\n",
      "\u001b[1;31mModuleNotFoundError\u001b[0m: No module named 'numpy'"
     ]
    }
   ],
   "source": [
    "import numpy\n",
    "\n",
    "print(numpy.array([1,2,3]) * 5)"
   ]
  },
  {
   "cell_type": "markdown",
   "metadata": {},
   "source": [
    "Voilà, we have multiplied each number in the array by 5! Let's try adding two arrays together."
   ]
  },
  {
   "cell_type": "code",
   "execution_count": null,
   "metadata": {},
   "outputs": [],
   "source": [
    "print(numpy.array([1,2,3]) + numpy.array([7, 6, 5]))"
   ]
  },
  {
   "cell_type": "markdown",
   "metadata": {},
   "source": [
    "Again, we now get the expected results. So, for doing numerical calculations, we will most often use numpy arrays. However, we will still often lists and tuples for other purposes.\n",
    "\n",
    "Another small point. We will be using Numpy a LOT, so it would be handy if we could abbreviate its name. We can do that using a modified import statement as below, which defines `np` as an alternative name for the numpy module. This is a fairly standard shortening of the module name that you'll encounter in code from all sorts of sources."
   ]
  },
  {
   "cell_type": "code",
   "execution_count": null,
   "metadata": {},
   "outputs": [],
   "source": [
    "import numpy as np\n",
    "\n",
    "print(np.array([1,2,3]))"
   ]
  },
  {
   "cell_type": "markdown",
   "metadata": {},
   "source": [
    "One last point. We saw earlier that there is a `math` module, should we still use that? It turns out that `math` is more limited in its capabilities. We can use math to ask for the square root of a single number"
   ]
  },
  {
   "cell_type": "code",
   "execution_count": null,
   "metadata": {},
   "outputs": [],
   "source": [
    "import math\n",
    "print(math.sqrt(25))"
   ]
  },
  {
   "cell_type": "markdown",
   "metadata": {},
   "source": [
    "but not of a series of numbers"
   ]
  },
  {
   "cell_type": "code",
   "execution_count": null,
   "metadata": {},
   "outputs": [],
   "source": [
    "print(math.sqrt([25, 36]))"
   ]
  },
  {
   "cell_type": "markdown",
   "metadata": {},
   "source": [
    "Instead `numpy`'s version allows this.\n",
    "So what if we want to take the square root of multiple numbers?\n",
    "The Numpy developers have programmed their own sqrt() function which is similar to the sqrt() function in the math module. However, the numpy sqrt() function is able to deal with multiple numbers. To use the sqrt() function from the numpy module, simply tell Python to look in the Numpy library."
   ]
  },
  {
   "cell_type": "code",
   "execution_count": null,
   "metadata": {},
   "outputs": [],
   "source": [
    "print(np.sqrt(np.array([25,36])))"
   ]
  },
  {
   "cell_type": "markdown",
   "metadata": {},
   "source": [
    "So, as you can see, Numpy is really built for working with collections of numbers. The `math` module wasn't intended for this application. Generally, you will use numpy for mathematical work. Very often, you can pass single numbers or lists of numbers to numpy functions."
   ]
  },
  {
   "cell_type": "code",
   "execution_count": null,
   "metadata": {},
   "outputs": [],
   "source": [
    "print(np.sqrt(25))\n",
    "print(np.sqrt([25,36]))"
   ]
  },
  {
   "cell_type": "markdown",
   "metadata": {},
   "source": [
    "Note that `numpy`'s square root function works with single numbers and ordinary lists of numbers as well. These shortcuts are very common within the library, and you can make use of this to make your code more readable."
   ]
  }
 ],
 "metadata": {
  "interpreter": {
   "hash": "04c80128671d83512e83a4e5f097579fa9ada1b7c289fd05dba1bb29a40904f8"
  },
  "kernelspec": {
   "display_name": "Python 3.10.0 64-bit",
   "name": "python3"
  },
  "language_info": {
   "codemirror_mode": {
    "name": "ipython",
    "version": 3
   },
   "file_extension": ".py",
   "mimetype": "text/x-python",
   "name": "python",
   "nbconvert_exporter": "python",
   "pygments_lexer": "ipython3",
   "version": "3.10.0"
  }
 },
 "nbformat": 4,
 "nbformat_minor": 2
}
