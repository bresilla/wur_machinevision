{
 "cells": [
  {
   "cell_type": "markdown",
   "metadata": {},
   "source": [
    "## Count insects on yellow sticky traps.\n",
    "In this project you can use the computer vision techniques you learned in the first 5 modules to find and count insects on yellow sticky traps. In the data folder you find a collection images made from yellow sticky traps in tomato greenhouses. Try to automatically find and count the insects. The white dots are tomato-greenhouse-whiteflies, so be sure that you detect those as well."
   ]
  }
 ],
 "metadata": {
  "kernelspec": {
   "display_name": "Python 3",
   "language": "python",
   "name": "python3"
  },
  "language_info": {
   "codemirror_mode": {
    "name": "ipython",
    "version": 3
   },
   "file_extension": ".py",
   "mimetype": "text/x-python",
   "name": "python",
   "nbconvert_exporter": "python",
   "pygments_lexer": "ipython3",
   "version": "3.6.7"
  }
 },
 "nbformat": 4,
 "nbformat_minor": 2
}
