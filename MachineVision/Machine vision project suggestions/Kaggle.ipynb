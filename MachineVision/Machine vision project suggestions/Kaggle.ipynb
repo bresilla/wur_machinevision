{
 "cells": [
  {
   "cell_type": "markdown",
   "metadata": {},
   "source": [
    "A great source of many images is kaggle, which a data science competition platform. Many people upload loads of data there, oftten together with a goal. That is, they want to find a way to get information from the data. Some of these datasets contain images. For instance of healthy/infected leaves of crops ( https://www.kaggle.com/hadjerhamaidi/date-palm-data, https://www.kaggle.com/saroz014/plant-disease#dataset.zip) or images of crops an weeds (https://www.kaggle.com/limitpointinf0/crop-vs-weeds/data) or images of fresh and rotten fruits (https://www.kaggle.com/sriramr/fruits-fresh-and-rotten-for-classification). The datasets change over time, so it might be that the links are outdated. A possible project is:\n",
    "\n",
    "\n",
    "1. make a kaggle account\n",
    "2. download a data set with images in different classes (for instance healthy and infected)\n",
    "3. make a classifyer that can distinguish the different classes with the machine visionn tools you have learned\n",
    "4. explain the choises you have meade in the process.\n"
   ]
  }
 ],
 "metadata": {
  "kernelspec": {
   "display_name": "Python 3",
   "language": "python",
   "name": "python3"
  },
  "language_info": {
   "codemirror_mode": {
    "name": "ipython",
    "version": 3
   },
   "file_extension": ".py",
   "mimetype": "text/x-python",
   "name": "python",
   "nbconvert_exporter": "python",
   "pygments_lexer": "ipython3",
   "version": "3.6.7"
  }
 },
 "nbformat": 4,
 "nbformat_minor": 2
}
