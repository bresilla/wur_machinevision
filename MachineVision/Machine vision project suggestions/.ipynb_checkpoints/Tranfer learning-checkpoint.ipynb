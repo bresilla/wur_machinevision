{
 "cells": [
  {
   "cell_type": "markdown",
   "metadata": {},
   "source": [
    "# Make your own classifyer using transfer learning"
   ]
  },
  {
   "cell_type": "markdown",
   "metadata": {},
   "source": [
    "In the last module, using pre-trained models, we discussed the transfer-learning techniques, which is an extremely powerful and useful technique to get your own classifyer. The aim of this project is to do this in reality.\n",
    "\n",
    "### Get data\n",
    "Collect image data which you would like to classify. You can either do this by downloading some  data from the internet or you can make images yourself. If you want to collect data yourself be careful that:\n",
    "1. the images are actually not to large. Most pretrained models have input size images of size (299,299,3) or (244,244,3). So this is really not very large. The model resizes the images and crops and turn the around. This is called data augementation. In the tutorial tranfer_learning_tutorial they use \n",
    "\n",
    "\n",
    "\n",
    "\n",
    "\n",
    "In the file transfer learning tutorial you can find how to do this on a set of images containing either bees or ants. If you want to do this yourself then do the following:\n",
    "1. make an directory called 'data',\n",
    "2. make a in this directory two subdirectories called 'train' and 'val',\n",
    "3. in both of these directories you make for each class a subdirectory  containing example images of that class. \n",
    "\n",
    "It is not important how many classes you use. In the example they have two classes but you could put as many as you want. Of course a classifyer that only distinguishes 1 class does not really work.\n",
    "\n",
    "It is good practice to split your images in each class for 60% in the training set and 40% in the validation set. If you really want to employ your classifyer you need actually to split in 60% training 20%test and 20% validation. Then you can use your validation sets to make decisions about your model and in the test set you can see the performance. Then, you might want to read more about this topic.  "
   ]
  }
 ],
 "metadata": {
  "kernelspec": {
   "display_name": "Python 3",
   "language": "python",
   "name": "python3"
  },
  "language_info": {
   "codemirror_mode": {
    "name": "ipython",
    "version": 3
   },
   "file_extension": ".py",
   "mimetype": "text/x-python",
   "name": "python",
   "nbconvert_exporter": "python",
   "pygments_lexer": "ipython3",
   "version": "3.6.7"
  }
 },
 "nbformat": 4,
 "nbformat_minor": 2
}
