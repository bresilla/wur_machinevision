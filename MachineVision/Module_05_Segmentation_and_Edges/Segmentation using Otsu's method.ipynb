{
 "cells": [
  {
   "cell_type": "markdown",
   "metadata": {},
   "source": [
    "We start with loading some packages and defining some helper functions. Please evaluate the following two cells, the tutorial starts below."
   ]
  },
  {
   "cell_type": "code",
   "execution_count": null,
   "metadata": {},
   "outputs": [],
   "source": [
    "import numpy as np\n",
    "import cv2\n",
    "import matplotlib.pyplot as plt\n",
    "from mpl_toolkits.axes_grid1 import make_axes_locatable\n",
    "\n",
    "# Set figsize so that images are large enough\n",
    "plt.rcParams['figure.figsize'] = [20, 10]"
   ]
  },
  {
   "cell_type": "code",
   "execution_count": null,
   "metadata": {},
   "outputs": [],
   "source": [
    "# A function to show a gray-scale image with its histogram side-by-side\n",
    "def show_im_and_hist(originalImage, hist):\n",
    "    plt.figure(figsize=(15,8))                              #set figure size and create \n",
    "    plt.subplot(121)\n",
    "    plt.imshow(originalImage, cmap='gray')\n",
    "    plt.xticks([]), plt.yticks([])\n",
    "    plt.title('Image')\n",
    "\n",
    "    plt.subplot(122)\n",
    "    plt.bar(list(range(len(hist))),hist[:,0])                # Plot the histogram as a bar plot\n",
    "    plt.title('histogram')\n",
    "    plt.xlabel(\"Intensity\"), plt.ylabel(\"count\")\n",
    "    plt.show()\n",
    "    \n",
    "#Function to show one or multiple images\n",
    "def show_images(images):\n",
    "    figwidth = 20; figheight = figwidth * images[0][0].shape[0]/images[0][0].shape[1]\n",
    "    plt.figure(figsize=(figwidth,figheight))\n",
    "    cols = 2\n",
    "    rows = len(images) // 2 + 1\n",
    "    for i, image in enumerate(images):\n",
    "        plt.subplot(rows,cols,i+1)\n",
    "        plt.imshow(image[0], cmap='gray')\n",
    "        plt.title(str(image[1]))\n",
    "        plt.xticks([]), plt.yticks([])\n",
    "    plt.show()\n",
    "    \n",
    "# Function to show an RGB image\n",
    "def imshow_rgb(img_bgr):\n",
    "    img_rgb = cv2.cvtColor(img_bgr, cv2.COLOR_BGR2RGB)\n",
    "    plt.imshow(img_rgb)\n",
    "    \n",
    "# Function to make colorbars appear nicer\n",
    "def colorbar(mappable):\n",
    "    ax = mappable.axes\n",
    "    fig = ax.figure\n",
    "    divider = make_axes_locatable(ax)\n",
    "    cax = divider.append_axes(\"right\", size=\"5%\", pad=0.05)\n",
    "    return fig.colorbar(mappable, cax=cax)\n",
    "\n",
    "# Function to show a RGB image and three separate color channels\n",
    "def show_rgb_plus_three_channels(img_bgr, ch_0, ch_1, ch_2, name_0, name_1, name_2, m_0=255, m_1=255, m_2=255):\n",
    "    plt.subplot(2,2,1)\n",
    "    imshow_rgb(img_bgr)\n",
    "    plt.title('Color image')\n",
    "    plt.subplot(2,2,2)\n",
    "    img2 = plt.imshow(ch_0, cmap='gray', vmin=0, vmax=m_0)\n",
    "    plt.title(name_0)\n",
    "    colorbar(img2)\n",
    "    plt.subplot(2,2,3)\n",
    "    img3 = plt.imshow(ch_1, cmap='gray', vmin=0, vmax=m_1)\n",
    "    plt.title(name_1)\n",
    "    colorbar(img3)\n",
    "    plt.subplot(2,2,4)\n",
    "    img4 = plt.imshow(ch_2, cmap='gray', vmin=0, vmax=m_2)\n",
    "    plt.title(name_2)\n",
    "    colorbar(img4)\n",
    "    \n",
    "def calc_exgreen(img_bgr):\n",
    "    # Convert to floating-point representation instead of uint8 to deal with fractions and negative values\n",
    "    img_bgr_float = img_bgr.astype('float')\n",
    "    R = img_bgr_float[:,:,2]\n",
    "    G = img_bgr_float[:,:,1]\n",
    "    B = img_bgr_float[:,:,0]\n",
    "    g = G / (R+G+B)\n",
    "    return(3*g-1)\n",
    "\n",
    "def showImageHistogramAndOtsu(img_gray, hist, otsu_th, img_otsu):\n",
    "    plt.figure(figsize=(20,8))\n",
    "    plt.subplot(1,3,1)\n",
    "    plt.imshow(img_gray, cmap='gray')\n",
    "    plt.title('Original image')\n",
    "\n",
    "    plt.subplot(1,3,2)\n",
    "    plt.bar(list(range(len(hist))),hist[:,0])                  # Plot the histogram as a bar plot\n",
    "    #plt.plot([otsu_th, otsu_th], [0, np.max(hist)], color='r') # Plot the Otsu threshold\n",
    "    plt.axvline(x=otsu_th, color='r', linestyle='dashed', linewidth=2)\n",
    "    plt.title('histogram')\n",
    "    plt.xlabel(\"Intensity\"), plt.ylabel(\"count\")\n",
    "\n",
    "    plt.subplot(1,3,3)\n",
    "    plt.imshow(img_otsu, cmap='gray')\n",
    "    plt.title('Segmented image using Otsu with th = %d' % otsu_th)\n",
    "\n",
    "    plt.show()\n",
    "\n",
    "# Create an image with clear foreground and background with different levels of noise\n",
    "def getTargetImageNoise():\n",
    "    fg_val = 180\n",
    "    bg_val = 75\n",
    "    img_gray = fg_val*np.ones((200,200), dtype='uint8')\n",
    "    cv2.circle(img_gray, (100,100), 80, (bg_val), -1)\n",
    "    cv2.circle(img_gray, (100,100), 50, (fg_val), -1)\n",
    "    cv2.circle(img_gray, (100,100), 20, (bg_val), -1)\n",
    "    img_gray = img_gray + (1*np.random.randn(200,200)).astype('uint8')\n",
    "    img_gray_low_noise = img_gray + (20*np.random.randn(200,200)).astype('uint8')\n",
    "    img_gray_high_noise = img_gray + (50*np.random.randn(200,200)).astype('uint8')\n",
    "    return(img_gray, img_gray_low_noise, img_gray_high_noise)"
   ]
  },
  {
   "cell_type": "markdown",
   "metadata": {},
   "source": [
    "# Segmentation \n",
    "\n",
    "In this tutorial we visit again the concept of segmentation. Recall that segmentation means that for each pixel we would like to determine to what item it belongs. In particular it is often nice to know if a pixel belongs to the foreground or to the background in the image. In the notebook on gray-scale-image processing you have seen the very basics of thresholding techniques.\n",
    "\n",
    "In important and elegant method to segment a image is what is called Otsu's method, named after the Japanese Nobuyuki Otsu.  "
   ]
  },
  {
   "cell_type": "markdown",
   "metadata": {},
   "source": [
    "# Global thresholding and Otsu's method\n",
    "\n",
    "Let's consider the following image of a lamb:\n",
    "\n",
    "<img src=\"Data_Tutorial5/lamb.jpg\" alt=\"Drawing\" style=\"width: 400px;\"/>\n",
    "\n",
    "__Exercise__:\n",
    "The following block loads the image in grayscale an the histogram. Try to determine in the historgram what would be a good threshold. In the block below that you can change the treshold and see the effect."
   ]
  },
  {
   "cell_type": "code",
   "execution_count": null,
   "metadata": {},
   "outputs": [],
   "source": [
    "#load the image\n",
    "lamb = cv2.imread(\"Data_Tutorial5/lamb.jpg\")\n",
    "# convert it to gray scale \n",
    "lamb_gray = cv2.cvtColor(lamb, cv2.COLOR_BGR2GRAY)\n",
    "#compute the histogram\n",
    "hist_lamb=cv2.calcHist([lamb_gray],[0],None,[256],[0,256])\n",
    "#show the gray image and the histo gram\n",
    "show_im_and_hist(lamb_gray,hist_lamb)"
   ]
  },
  {
   "cell_type": "code",
   "execution_count": null,
   "metadata": {},
   "outputs": [],
   "source": [
    "thresh = 130\n",
    "ret,thresh_lamb_gray = cv2.threshold(lamb_gray,thresh,255,cv2.THRESH_BINARY)\n",
    "plt.figure()\n",
    "plt.imshow(thresh_lamb_gray,cmap='gray')\n",
    "plt.title(\"Lamb with threshold=\"+str(thresh))\n",
    "plt.show()"
   ]
  },
  {
   "cell_type": "markdown",
   "metadata": {},
   "source": [
    "Otsu's method is a method to automatically find the optimal threshold for image segmentation.It is based on  the assumption that the variance in the amount of variation among the pixels in the background are usually different then among the pixels in the foreground."
   ]
  },
  {
   "cell_type": "markdown",
   "metadata": {},
   "source": [
    "To find the optimal threshold, the method calculates the __weighted within-class variance, $\\sigma_w^2(t)$__ for a given threshold $t$, based on the variance of all intensities lower than or equal to the threshold, $\\sigma_1^2(t)$, and of the variance of all intensities higher than the threshold, $\\sigma_2^2(t)$:\n",
    "\n",
    "\\begin{equation*}\n",
    "\\sigma_w^2(t) = q_1(t)\\sigma_1^2(t)+q_2(t)\\sigma_2^2(t)\n",
    "\\end{equation*}\n",
    "where\n",
    "\n",
    "\\begin{equation*}\n",
    "q_1(t) = \\sum_{i=0}^{t} P(i) \\quad \\& \\quad q_2(t) = \\sum_{i=t+1}^{I-1} P(i)\\\\\n",
    "\\end{equation*}\n",
    "where $P$ is the normalized histogram, so that $P(i)$ gives the probability that intensity $i$ is in the image. $q_1(t)$ and $q_2(t)$ are, respectively the probability on all intensities lower than or equal to the threshold $t$ and the probability on all intensities higher than the threshold $t$.\n",
    "\n",
    "To calculate the variances of the two classes:\n",
    "\\begin{equation*}\n",
    "\\mu_1(t) = \\sum_{i=0}^{t} \\frac{iP(i)}{q_1(t)} \\quad \\& \\quad \\mu_2(t) = \\sum_{i=t+1}^{I-1} \\frac{iP(i)}{q_2(t)}\\\\\n",
    "\\sigma_1^2(t) = \\sum_{i=0}^{t} [i-\\mu_1(t)]^2 \\frac{P(i)}{q_1(t)} \\quad \\& \\quad \\sigma_2^2(t) = \\sum_{i=t+1}^{I-1} [i-\\mu_2(t)]^2 \\frac{P(i)}{q_2(t)}\n",
    "\\end{equation*}\n",
    "\n",
    "The function `getWeightedWithinClassVariance(...)` below implements these formula and calculates the weighted within-class variance for a given threshold, `t`. \n"
   ]
  },
  {
   "cell_type": "code",
   "execution_count": null,
   "metadata": {},
   "outputs": [],
   "source": [
    "def getWeightedWithinClassVariance(hist,t):\n",
    "    #get the normalised hist\n",
    "    hist_norm = (hist/sum(hist)).transpose()\n",
    "    #split \n",
    "    p1,p2 = np.hsplit(hist_norm,[t])\n",
    "    \n",
    "    #print(p1.shape,p2.shape)\n",
    "    #get the cummulated histnorm\n",
    "    cummulated_hist_norm = hist_norm.cumsum()\n",
    "    # Get cummulative probability below and above the threshold\n",
    "    q1,q2 = cummulated_hist_norm[t],cummulated_hist_norm[255]-cummulated_hist_norm[t]\n",
    "    # split intensities below and above t\n",
    "    intensities = np.arange(256)\n",
    "    i1,i2 = np.hsplit(intensities,[t])\n",
    "    # Calculate the mean and variance of all intensities lower or equal to the threshold\n",
    "    if(q1>0):\n",
    "        mean1 = np.sum(p1*i1)/q1\n",
    "        var1 = np.sum(((i1-mean1)**2)*p1)/q1\n",
    "    else:\n",
    "        var1 = 0\n",
    "\n",
    "    #Calculate the mean and variance of all intensities higher of the threshold\n",
    "    if(q2>0):\n",
    "        mean2 = np.sum(p2*i2)/q2\n",
    "        var2 = np.sum(((i2-mean2)**2)*p2)/q2\n",
    "    else:\n",
    "        var2 = 0\n",
    "    \n",
    "    # calculates the minimization function\n",
    "    var_within_class = var1*q1 + var2*q2   \n",
    "    return var_within_class"
   ]
  },
  {
   "cell_type": "markdown",
   "metadata": {},
   "source": [
    "Below is a loop that calculates the wiegthed variance for each threshold t. The best threshold is the one with the witghted variance is minimal. The cell below prints that number. Put the threshold aboe to this number, and see how the segmentation goes. "
   ]
  },
  {
   "cell_type": "code",
   "execution_count": null,
   "metadata": {},
   "outputs": [],
   "source": [
    "weigth_in_classes = []\n",
    "for t in range(254):\n",
    "    weigth_in_classes.append(getWeightedWithinClassVariance(hist_lamb,t))\n",
    "\n",
    "print(weigth_in_classes.index(min(weigth_in_classes)))    "
   ]
  },
  {
   "cell_type": "markdown",
   "metadata": {},
   "source": [
    "Below we plot the weighted class variance and the histogram in one plot."
   ]
  },
  {
   "cell_type": "code",
   "execution_count": null,
   "metadata": {},
   "outputs": [],
   "source": [
    "plt.figure(figsize=(15,8))                              #set figure size and create \n",
    "plt.subplot(121)\n",
    "plt.plot(weigth_in_classes, 'r')\n",
    "plt.bar(list(range(len(hist_lamb))),hist_lamb[:,0])\n",
    "#plt.xticks([]), plt.yticks([])\n",
    "plt.title('Weigth in class variance')\n",
    "plt.show"
   ]
  },
  {
   "cell_type": "markdown",
   "metadata": {},
   "source": [
    "Otsu's method assumes that the histogram really has two peaks between which you can put a threshold such that you get a nice segmentation.\n",
    "\n",
    "__Exercise__:\n",
    "Load in the code above lamb2.jpg instead of lamb.jpg. And evaluluate all the cells again. Describe what you see and set the threshold optimally. \n",
    "\n",
    "There are many other algorithms segmenting images using the variance among pixels. These are often called graphed-based segmentations. These are outside the scope of this course."
   ]
  },
  {
   "cell_type": "markdown",
   "metadata": {},
   "source": [
    "The function below performs an analysis of Otsu's method on an image by plotting the intensity histogram and the within-class variance with the optimal Otsu threshold overlayed. "
   ]
  },
  {
   "cell_type": "code",
   "execution_count": null,
   "metadata": {},
   "outputs": [],
   "source": [
    "def plotOstuAnalysis(img_gray):\n",
    "    # find normalized_histogram, normalize it and get the cumulative distribution function\n",
    "    hist = cv2.calcHist([img_gray],[0],None,[256],[0,256])\n",
    "    hist_norm = hist.ravel()/hist.sum()\n",
    "    cummulated_hist_norm = hist_norm.cumsum()\n",
    "\n",
    "    # Add your code with a for-loop to calculate the weighhted within-class variance for all\n",
    "    # thresholds in the range(0,256).\n",
    "    # Store the results in a list and plot the list\n",
    "    all_var_within_class = []\n",
    "    for i in range(0,256):\n",
    "        var_within_class = getWeightedWithinClassVariance(hist_norm, cummulated_hist_norm, i)\n",
    "        all_var_within_class.append(var_within_class)\n",
    "\n",
    "    otsu_thresh = np.argmin(all_var_within_class)\n",
    "    print(\"Threshold with lowest weighted within-class variance: %d\" % otsu_thresh)\n",
    "    plt.figure(figsize=(20,8))\n",
    "    plt.subplot(1,3,1)\n",
    "    plt.imshow(img_gray, cmap='gray')\n",
    "    plt.title('Original image')\n",
    "\n",
    "    plt.subplot(1,3,2)\n",
    "    plt.bar(list(range(len(hist))),hist[:,0])                  # Plot the histogram as a bar plot\n",
    "    plt.axvline(x=otsu_thresh, color='r', linestyle='dashed', linewidth=2)\n",
    "    plt.title('histogram')\n",
    "    plt.xlabel(\"Intensity\"), plt.ylabel(\"count\")\n",
    "\n",
    "    plt.subplot(1,3,3)\n",
    "    plt.plot(all_var_within_class, color='b')\n",
    "    plt.axvline(x=otsu_thresh, color='r', linestyle='dashed', linewidth=2)\n",
    "    plt.title('Within-class variance')\n",
    "    plt.xlabel(\"Intensity threshold\")\n",
    "    plt.ylabel(\"Within-class variance\")\n",
    "    plt.show()"
   ]
  },
  {
   "cell_type": "markdown",
   "metadata": {},
   "source": [
    "__Exercise (applicability of Otsu's method):__\n",
    "* Use the function `plotOstuAnalysis(...)` to analyse Otsu's method for the following images:\n",
    "  - `img_gradient.png`\n",
    "  - `img_2_scales.png`, `img_3_scales.png`, and `img_4_scales.png`\n",
    "  - `img_2_scales_noise.png`, `img_3_scales_noise.png`, and `img_4_scales_noise.png`\n",
    "* When does the method work well and when does it not work well?"
   ]
  },
  {
   "cell_type": "code",
   "execution_count": null,
   "metadata": {},
   "outputs": [],
   "source": [
    "# TODO: add the right images and display the results\n",
    "# Load an image\n",
    "img_gray = cv2.imread('Data_Tutorial5/...', 0)\n",
    "plotOstuAnalysis(img_gray)"
   ]
  },
  {
   "cell_type": "markdown",
   "metadata": {},
   "source": [
    "Otsu thresholding can be als performed using OpenCV with the function `cv2.threshold(...)` using the thresholding type, `cv2.THRESH_OTSU`. The algorithm returns both the Otsu threshold as well as the thresholded image:"
   ]
  },
  {
   "cell_type": "code",
   "execution_count": null,
   "metadata": {
    "scrolled": false
   },
   "outputs": [],
   "source": [
    "img_gray = cv2.imread('Data_Tutorial5/leaf_00.png', 0)\n",
    "\n",
    "# Calculate the histogram for this image\n",
    "hist = cv2.calcHist([img_gray],[0],None,[256],[0,256])#create histogram\n",
    "\n",
    "# Calculate the Otsu threshold for the image\n",
    "otsu_th,img_otsu = cv2.threshold(img_gray,0,256,cv2.THRESH_OTSU + cv2.THRESH_BINARY_INV) #apply otsu\n",
    "\n",
    "# Show the results\n",
    "showImageHistogramAndOtsu(img_gray, hist, otsu_th, img_otsu)"
   ]
  },
  {
   "cell_type": "markdown",
   "metadata": {},
   "source": [
    "__Excercise (per-image thresholds):__\n",
    "- Run the code above and write the Otsu threshold down\n",
    "- Use this threshold in the code below, where it is used to segment leaf from background in 4 different versions of the image\n",
    "- What do you see?\n",
    "- Now apply Otsu thresholding to each image individually. \n",
    "- What is the benefit of using Otsu's method?"
   ]
  },
  {
   "cell_type": "code",
   "execution_count": null,
   "metadata": {},
   "outputs": [],
   "source": [
    "for i in range(1,5):\n",
    "    img_gray = cv2.imread('Data_Tutorial5/leaf_%02d.png'%i, 0)\n",
    "    # TODO: Change this line below to perform otsu thresholding on each image\n",
    "    _, img_otsu = cv2.threshold(img_gray, otsu_th, 256, cv2.THRESH_BINARY_INV)\n",
    "    plt.subplot(2,4,i)\n",
    "    plt.imshow(img_gray, cmap='gray')\n",
    "    plt.subplot(2,4,i+4)\n",
    "    plt.imshow(img_otsu, cmap='gray')\n",
    "plt.show()"
   ]
  },
  {
   "cell_type": "code",
   "execution_count": null,
   "metadata": {},
   "outputs": [],
   "source": [
    "#solution.\n",
    "for i in range(1,5):\n",
    "    img_gray = cv2.imread('Data_Tutorial5/leaf_%02d.png'%i, 0)\n",
    "    # TODO: Change this line below to perform otsu thresholding on each image\n",
    "    #_, img_otsu = cv2.threshold(img_gray, otsu_th, cv2.THRESH_OTSU + cv2.THRESH_BINARY_INV, cv2.THRESH_BINARY_INV)\n",
    "    otsu_th,img_otsu = cv2.threshold(img_gray,0,256,cv2.THRESH_OTSU + cv2.THRESH_BINARY_INV) #apply otsu\n",
    "    plt.subplot(2,4,i)\n",
    "    plt.imshow(img_gray, cmap='gray')\n",
    "    plt.subplot(2,4,i+4)\n",
    "    plt.imshow(img_otsu, cmap='gray')\n",
    "plt.show()"
   ]
  },
  {
   "cell_type": "markdown",
   "metadata": {},
   "source": [
    "## Otsu thresholding with noise\n",
    "Otsu's method works well for images with little noise that have a bi-modal histogram, that is, that show two modes (bumps) in the histogram. Let's look at images with clear foreground and background but with different levels of noise and see what Otsu's method produces."
   ]
  },
  {
   "cell_type": "code",
   "execution_count": null,
   "metadata": {},
   "outputs": [],
   "source": [
    "# Get three images with different levels of noise\n",
    "img_gray, img_gray_low_noise, img_gray_high_noise = getTargetImageNoise()\n",
    "\n",
    "# Calculate the histogram for these images\n",
    "hist = cv2.calcHist([img_gray],[0],None,[256],[0,256])#create histogram\n",
    "hist_low_noise = cv2.calcHist([img_gray_low_noise],[0],None,[256],[0,256])#create histogram\n",
    "hist_high_noise = cv2.calcHist([img_gray_high_noise],[0],None,[256],[0,256])#create histogram\n",
    "\n",
    "# Calculate the Otsu threshold for the images\n",
    "otsu_th,img_otsu = cv2.threshold(img_gray,0,256,cv2.THRESH_OTSU) #apply otsu\n",
    "otsu_th_low_noise,img_otsu_low_noise = cv2.threshold(img_gray_low_noise,0,256,cv2.THRESH_OTSU) #apply otsu\n",
    "otsu_th_high_noise,img_otsu_high_noise = cv2.threshold(img_gray_high_noise,0,256,cv2.THRESH_OTSU) #apply otsu\n",
    "\n",
    "# Show the results\n",
    "print('Original image, no noise')\n",
    "showImageHistogramAndOtsu(img_gray, hist, otsu_th, img_otsu)\n",
    "print('Low level of noise')\n",
    "showImageHistogramAndOtsu(img_gray_low_noise, hist_low_noise, otsu_th_low_noise, img_otsu_low_noise)\n",
    "print('High level of noise')\n",
    "showImageHistogramAndOtsu(img_gray_high_noise, hist_high_noise, otsu_th_high_noise, img_otsu_high_noise)\n"
   ]
  },
  {
   "cell_type": "markdown",
   "metadata": {},
   "source": [
    "__Exercise (Otsu's method and noise):__\n",
    "- Look at the images above, what happens when applying otsu thresholding?\n",
    "- Look at the histograms of the image with high level of noise. Is it possible to set a threshold that will correctly segment this images?"
   ]
  },
  {
   "cell_type": "markdown",
   "metadata": {},
   "source": [
    "To correctly segment this image, we first need to deal with the noise by filtering the image with a Gaussian convolution kernel. The blurred image can then be used as input for Otsu thresholding.\n",
    "\n",
    "__Exercise (Otsu's method with filtering)__:\n",
    "- Recall from Tutorial 2 how to apply a Gaussian convolution filter. \n",
    "- Apply Gaussian blur to `img_gray_high_noise` and observe the histogram of the resulting image. Do you now see again a bimodal histogram?\n",
    "- Apply Otsu thresholding and show the results\n",
    "- Experiment with different sizes of the Gaussian kernel to get the best effect"
   ]
  }
 ],
 "metadata": {
  "kernelspec": {
   "display_name": "Python 3",
   "language": "python",
   "name": "python3"
  },
  "language_info": {
   "codemirror_mode": {
    "name": "ipython",
    "version": 3
   },
   "file_extension": ".py",
   "mimetype": "text/x-python",
   "name": "python",
   "nbconvert_exporter": "python",
   "pygments_lexer": "ipython3",
   "version": "3.6.7"
  }
 },
 "nbformat": 4,
 "nbformat_minor": 2
}
