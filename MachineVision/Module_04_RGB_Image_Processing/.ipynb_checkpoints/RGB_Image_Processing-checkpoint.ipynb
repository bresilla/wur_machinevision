{
 "cells": [
  {
   "cell_type": "markdown",
   "metadata": {},
   "source": [
    "In this module we have look at color images. First we have a look at RGB image processing and then we have a look at the hue saturation value space (HSV). The latter is a color space that is designed to imitate how we humans perceive the world.\n",
    "\n",
    "We'll first import the necessary libraries and define some helper functions:"
   ]
  },
  {
   "cell_type": "code",
   "execution_count": null,
   "metadata": {},
   "outputs": [],
   "source": [
    "%matplotlib inline\n",
    "\n",
    "import cv2                      # Library for image processing\n",
    "import matplotlib.pyplot as plt # Library for plotting\n",
    "import numpy as np              # Library for numerical processing\n",
    "from IPython import display     # Library for Jupyter notebooks\n",
    "from ipywidgets import *        # Include ipywidgets to add some controls to the code\n",
    "from mpl_toolkits.axes_grid1 import make_axes_locatable\n",
    "\n",
    "# Set figsize so that images are large enough\n",
    "plt.rcParams['figure.figsize'] = [20, 10]"
   ]
  },
  {
   "cell_type": "code",
   "execution_count": null,
   "metadata": {},
   "outputs": [],
   "source": [
    "# Function to show an RGB image\n",
    "def imshow_rgb(img_bgr):\n",
    "    img_rgb = cv2.cvtColor(img_bgr, cv2.COLOR_BGR2RGB)\n",
    "    plt.imshow(img_rgb)\n",
    "    \n",
    "# Function to make colorbars appear nicer\n",
    "def colorbar(mappable):\n",
    "    ax = mappable.axes\n",
    "    fig = ax.figure\n",
    "    divider = make_axes_locatable(ax)\n",
    "    cax = divider.append_axes(\"right\", size=\"5%\", pad=0.05)\n",
    "    return fig.colorbar(mappable, cax=cax)\n",
    "\n",
    "# Function to show a RGB image and three separate color channels\n",
    "def show_rgb_plus_three_channels(img_bgr, ch_0, ch_1, ch_2, name_0, name_1, name_2, \n",
    "                                 m_0=255, m_1=255, m_2=255):\n",
    "    plt.subplot(2,2,1)\n",
    "    imshow_rgb(img_bgr)\n",
    "    plt.xticks([])\n",
    "    plt.yticks([])\n",
    "    plt.title('Color image')\n",
    "    plt.subplot(2,2,2)\n",
    "    plt.xticks([])\n",
    "    plt.yticks([])\n",
    "    img2 = plt.imshow(ch_0, cmap='gray', vmin=0, vmax=m_0)\n",
    "    plt.title(name_0)\n",
    "    colorbar(img2)\n",
    "    plt.subplot(2,2,3)\n",
    "    img3 = plt.imshow(ch_1, cmap='gray', vmin=0, vmax=m_1)\n",
    "    plt.title(name_1)\n",
    "    plt.xticks([])\n",
    "    plt.yticks([])\n",
    "    colorbar(img3)\n",
    "    plt.subplot(2,2,4)\n",
    "    img4 = plt.imshow(ch_2, cmap='gray', vmin=0, vmax=m_2)\n",
    "    plt.title(name_2)\n",
    "    plt.xticks([])\n",
    "    plt.yticks([])\n",
    "    colorbar(img4)"
   ]
  },
  {
   "cell_type": "markdown",
   "metadata": {},
   "source": [
    "---\n",
    "## The RGB color space\n",
    "---\n",
    "\n",
    "In this section, we will review some of the material discussed in the first module about the RGB color space and work on the segmentation of coloured objects. \n",
    "\n",
    "The standard representation of color in images is based on three color channels: red (R), green (G), and blue (B). In python, using the openCV library, images are loaded as 3D-matrices, with the following dimensions:\n",
    "\n",
    "| Dimension id | Description | Number of elements | \n",
    "|---|---|---|\n",
    "| 1 | Rows in the image |  the *height* of the image | \n",
    "| 2 | Columns in the image | the *width* of the image |\n",
    "| 3 | Color channels | 3 |\n",
    "\n",
    "**NB.** Remember that openCV loads the color channels in the following order: **B, G, R**. To get each individual color channel as a separate image, you can use the following Python code:\n",
    "```python\n",
    "channel_red   = img[:,:,2]\n",
    "channel_green = img[:,:,1]\n",
    "channel_blue  = img[:,:,0]\n",
    "```"
   ]
  },
  {
   "cell_type": "markdown",
   "metadata": {},
   "source": [
    "So, for each pixel there are 3 numbers. These numbers range from 0 to 255, that is, for each entree there are $2^8$ possibilities. With the three color values, we can create $(2^8)^3=2^{24} = 16,777,216$ different colors. With the code below, we will investigate how colors like \"yellow\", \"orange\", \"purple\", etc. are represented in RGB values. You can change the sliders to select the values and observe the color.\n",
    "\n",
    "__Exercise (find colors):__\n",
    "* Execute the code below and find the RGB values for the following colors:\n",
    "  1. Red\n",
    "  2. Orange\n",
    "  2. Yellow\n",
    "  3. Green\n",
    "  4. Cyan\n",
    "  5. Blue\n",
    "  6. Purple\n",
    "  7. White\n",
    "  8. Gray\n",
    "  9. Black"
   ]
  },
  {
   "cell_type": "code",
   "execution_count": null,
   "metadata": {},
   "outputs": [],
   "source": [
    "red_widget = IntSlider(description='Red [0,255]',min=0, max=255, step=5, layout={'width': '800px'})\n",
    "green_widget = IntSlider(description='Green [0,255]',min=0, max=255, step=5, layout={'width': '800px'})\n",
    "blue_widget = IntSlider(description='Blue [0,255]',min=0, max=255, step=5, layout={'width': '800px'})\n",
    "\n",
    "def showColor(r, g, b):\n",
    "    red_channel = r*np.ones((50,200),dtype=np.uint8)\n",
    "    green_channel = g*np.ones((50,200),dtype=np.uint8)\n",
    "    blue_channel = b*np.ones((50,200),dtype=np.uint8)\n",
    "    img_bgr = cv2.merge((blue_channel, green_channel, red_channel))\n",
    "    imshow_rgb(img_bgr)\n",
    "    plt.show()\n",
    "\n",
    "red_widget.value = (255)\n",
    "green_widget.value = (255)\n",
    "blue_widget.value = (0)\n",
    "interact(showColor, r=red_widget, g=green_widget, b=blue_widget)"
   ]
  },
  {
   "cell_type": "markdown",
   "metadata": {},
   "source": [
    "Let's load a colorful image and inspect the three different color channels."
   ]
  },
  {
   "cell_type": "code",
   "execution_count": null,
   "metadata": {},
   "outputs": [],
   "source": [
    "# Load the image\n",
    "path = 'Data_Tutorial4/bellpepper_colors.png'\n",
    "img_bgr = cv2.imread(path)\n",
    "\n",
    "# Get the separate color channels\n",
    "channel_red = img_bgr[:,:,2]\n",
    "channel_green = img_bgr[:,:,1]\n",
    "channel_blue = img_bgr[:,:,0]\n",
    "\n",
    "# Show the image and the three color channels\n",
    "show_rgb_plus_three_channels(img_bgr, channel_red, channel_green, channel_blue, 'Red', 'Green', 'Blue')\n",
    "\n",
    "plt.show()"
   ]
  },
  {
   "cell_type": "markdown",
   "metadata": {},
   "source": [
    "**Exercise (pepper channels)**:\n",
    "1. Look at the red, orange and yellow bell pepper. Which bell pepper has the highest values for the red color channel? Is this what you expected?\n",
    "2. Look at the green and yellow bell pepper. Which bell pepper has the highest value for the green channel? Is this what you expected?\n",
    "3. In reality, each pepper has a uniform color. Do you see uniform intensity values for one of the color channels?"
   ]
  },
  {
   "cell_type": "markdown",
   "metadata": {},
   "source": [
    "The code below allows you to set lower-bound and upper-bound thresholds on the R, G, and B channels.\n",
    "\n",
    "**Exercise (color thresholding):**\n",
    "1. Run the code\n",
    "2. Try to find thresholds to detect the different peppers individually."
   ]
  },
  {
   "cell_type": "code",
   "execution_count": null,
   "metadata": {},
   "outputs": [],
   "source": [
    "red_widget = IntRangeSlider(description='Red [0,255]',min=0, max=255, step=1, layout={'width': '800px'})\n",
    "green_widget = IntRangeSlider(description='Green [0,255]',min=0, max=255, step=1, layout={'width': '800px'})\n",
    "blue_widget = IntRangeSlider(description='Blue [0,255]',min=0, max=255, step=1, layout={'width': '800px'})\n",
    "\n",
    "def segmentImageRGB(red_range, green_range, blue_range):\n",
    "    \n",
    "    mask_red = np.logical_and(channel_red >= red_range[0], channel_red <= red_range[1])\n",
    "    mask_green = np.logical_and(channel_green >= green_range[0], channel_green <= green_range[1])\n",
    "    mask_blue = np.logical_and(channel_blue >= blue_range[0], channel_blue <= blue_range[1])\n",
    "    mask = np.logical_and(mask_red, mask_green, mask_blue)\n",
    "    mask = mask.astype(np.uint8)\n",
    "    \n",
    "    fig = plt.figure()\n",
    "    plt.subplot(121)\n",
    "    imshow_rgb(img_bgr)\n",
    "    plt.axis('off')\n",
    "    plt.title('RGB image')\n",
    "    plt.subplot(122)\n",
    "    plt.imshow(mask,plt.get_cmap('gray'), vmin=0, vmax=1)\n",
    "    plt.axis('off')\n",
    "    plt.title(\"Segment\")\n",
    "    plt.show()\n",
    "    fig.tight_layout()\n",
    "\n",
    "\n",
    "red_widget.value = (100,150)\n",
    "green_widget.value = (100,150)\n",
    "blue_widget.value = (100,150)\n",
    "interact(segmentImageRGB, red_range=red_widget, green_range=green_widget, blue_range=blue_widget)"
   ]
  },
  {
   "cell_type": "markdown",
   "metadata": {},
   "source": [
    "When you are finished with the exercise, close the widget by pressing the 'x' and the left of the sliders."
   ]
  },
  {
   "cell_type": "markdown",
   "metadata": {},
   "source": [
    "---\n",
    "## Color indices and Excessive Green\n",
    "---\n",
    "As you have experienced, segmenting colored objects in the RGB color space can be tricky, as we have to set six thresholds. Moreover, the R value for the red bell pepper was, surprisingly, lower than for the orange and yellow bell pepper. To improve this, it can be beneficial to normalize the color channels and to calculate color indices. Normalization means the each of the values is divided by the sum over all values, such that you get a value that represent the 'redness', 'greenness' and 'blueness' compared to each other.\n",
    "\n",
    "To normalize the R, G, and B color channels, the values need to be divided by the sum of R, G, and B. \n",
    "\\begin{equation*}\n",
    "r \\leftarrow \\frac{R}{R+G+B}, \\\\\n",
    "g \\leftarrow \\frac{G}{R+G+B}, \\\\\n",
    "b \\leftarrow \\frac{B}{R+G+B}, \\\\\n",
    "\\end{equation*}\n",
    "\n",
    "__Exercise (normalized channels):__\n",
    "* Finish the code below and observe the results. \n",
    "* Is the red value for the red, orange and yellow bell pepper now more what you expect?  \n",
    "* Run the code for the files `Data_Tutorial4/field_shadow.jpg` and `Data_Tutorial4/leaf_shadow.jpg` to see if you can use the normalized RGB values to reduce the effect of shadows.\n",
    "\n",
    "__NB.__ To properly divide the values, the image matrix is converted to floating-points= values"
   ]
  },
  {
   "cell_type": "code",
   "execution_count": null,
   "metadata": {},
   "outputs": [],
   "source": [
    "# Load the image\n",
    "path = 'Data_Tutorial4/bellpepper_colors.png'\n",
    "img_bgr = cv2.imread(path)\n",
    "\n",
    "img_bgr_float = img_bgr.astype('float')\n",
    "R = img_bgr_float[:,:,2]\n",
    "G = img_bgr_float[:,:,1]\n",
    "B = img_bgr_float[:,:,0]\n",
    "R.astype(float)\n",
    "r = ___\n",
    "g = ___\n",
    "b = ___\n",
    "\n",
    "# Show the original image and the normalized color channels\n",
    "show_rgb_plus_three_channels(img_bgr, r, g, b, 'Normalized Red', 'Normalized Green', 'Normalized Blue', 1, 1, 1)\n",
    "plt.show()\n",
    "# Show the normalized RGB image by merging the three normalized channels\n",
    "img_bgr_float2 = cv2.merge((b,g,r)).astype('float32')\n",
    "imshow_rgb(img_bgr_float2)\n",
    "plt.title('Normalized RGB')\n",
    "plt.show()"
   ]
  },
  {
   "cell_type": "code",
   "execution_count": null,
   "metadata": {},
   "outputs": [],
   "source": [
    "#Solution\n",
    "# Load the image\n",
    "path = 'Data_Tutorial4/bellpepper_colors.png'\n",
    "img_bgr = cv2.imread(path)\n",
    "\n",
    "img_bgr_float = img_bgr.astype('float')\n",
    "R = img_bgr_float[:,:,2]\n",
    "G = img_bgr_float[:,:,1]\n",
    "B = img_bgr_float[:,:,0]\n",
    "R.astype(float)\n",
    "r = R/(R+G+B)\n",
    "g = G/(R+G+B)\n",
    "b = B/(R+G+B)\n",
    "\n",
    "# Show the original image and the normalized color channels\n",
    "show_rgb_plus_three_channels(img_bgr, r, g, b, 'Normalized Red', 'Normalized Green', 'Normalized Blue', 1, 1, 1)\n",
    "plt.show()\n",
    "# Show the normalized RGB image by merging the three normalized channels\n",
    "img_bgr_float2 = cv2.merge((b,g,r)).astype('float32')\n",
    "imshow_rgb(img_bgr_float2)\n",
    "plt.title('Normalized RGB')\n",
    "plt.show()"
   ]
  },
  {
   "cell_type": "markdown",
   "metadata": {},
   "source": [
    "### The Excessive Green index \n",
    "\n",
    "For particular problems, people have developed specific color indices, specific transformations of RGB values to a single value. The **Excessive-Green** index is such a color index that is often used for agricultural applications. Specifically, the index is used for vegetation segmentation, the segmentation of plants from the background.\n",
    "\n",
    "The excessive-green value is calculated from the normalized red, green and blue values:\n",
    "\\begin{equation*}\n",
    "ExG = 2g - r - b\n",
    "\\end{equation*}"
   ]
  },
  {
   "cell_type": "markdown",
   "metadata": {},
   "source": [
    "**Exercise (ExG bounds)**:\n",
    "1. What are the upper and lower bounds of  $ExG$, that is, what is the maximum value ExG can attain and what is the minimum value?"
   ]
  },
  {
   "cell_type": "markdown",
   "metadata": {},
   "source": [
    "The code below calculates an excessive-*red* index and applies that to an image of bell peppers on a plant.\n",
    "\n",
    "**Exercise (Calculate ExG)**:\n",
    "1. Create a separate function `calc_exgreen` to calculate the excessive-green index and apply it to some images of a field with crop and weed plants: `Data_Tutorial4/weed_field_01.png`, `Data_Tutorial4/weed_field_02.png`, `Data_Tutorial4/weed_field_03.png` and `Data_Tutorial4/weed_field_04.png`\n",
    "\n",
    "__hint__: You can use the code below, that calculates excessive red as example."
   ]
  },
  {
   "cell_type": "code",
   "execution_count": null,
   "metadata": {},
   "outputs": [],
   "source": [
    "#Function to calculate the excessive green\n",
    "def calc_exgreen(img_bgr):\n",
    "    # Convert to floating-point representation instead of uint8 to deal with fractions and negative values\n",
    "    img_bgr_float = img_bgr.astype('float')\n",
    "    R = img_bgr_float[:,:,2]\n",
    "    G = img_bgr_float[:,:,1]\n",
    "    B = img_bgr_float[:,:,0]\n",
    "    R.astype(float)\n",
    "    r = R / (R+G+B)\n",
    "    g = G / (R+G+B)\n",
    "    b = B / (R+G+B)\n",
    "    return(2*g-r-b)\n",
    "\n",
    "# Read an image of a field with vegetation\n",
    "path = 'Data_Tutorial4/paprika_in_kas.jpg'\n",
    "img_bgr = cv2.imread(path)\n",
    "\n",
    "# Calculate an image with excessive-green values\n",
    "img_exg = calc_exgreen(img_bgr)\n",
    "\n",
    "# Plot the images\n",
    "plt.subplot(1,2,1)\n",
    "img1 = imshow_rgb(img_bgr)\n",
    "plt.xticks([]),plt.yticks([])\n",
    "plt.subplot(1,2,2)\n",
    "img2 = plt.imshow(img_exg)\n",
    "plt.xticks([]),plt.yticks([])\n",
    "colorbar(img2)\n",
    "plt.show()"
   ]
  },
  {
   "cell_type": "markdown",
   "metadata": {},
   "source": [
    "**Exercise (ExG thresholding)**:\n",
    "1. Find the thresholds to separate vegetation from soil"
   ]
  },
  {
   "cell_type": "code",
   "execution_count": null,
   "metadata": {
    "scrolled": true
   },
   "outputs": [],
   "source": [
    "exg_range_widget = FloatRangeSlider(description='ExG',min=-2, max=2, step=0.05, layout={'width': '800px'})\n",
    "img_exg = calc_exgreen(cv2.imread('Data_Tutorial4/weed_field_01.png'))\n",
    "\n",
    "\n",
    "def segmentExGreen(exg_range):\n",
    "    mask = np.logical_and(img_exg >= exg_range[0], img_exg <= exg_range[1])\n",
    "    mask = mask.astype(np.uint8)\n",
    "    \n",
    "    fig = plt.figure()\n",
    "    plt.subplot(121)\n",
    "    img1 = plt.imshow(img_exg)\n",
    "    plt.axis('off')\n",
    "    plt.title('RGB image')\n",
    "    colorbar(img1)\n",
    "    plt.subplot(122)\n",
    "    plt.imshow(mask,plt.get_cmap('gray'), vmin=0, vmax=1)\n",
    "    \n",
    "    plt.title(\"Segment\")\n",
    "    plt.show()\n",
    "    fig.tight_layout()\n",
    "    \n",
    "interact(segmentExGreen, exg_range=exg_range_widget)"
   ]
  },
  {
   "cell_type": "markdown",
   "metadata": {},
   "source": [
    "---\n",
    "## HSV color space\n",
    "---\n",
    "\n",
    "The disadvantage of the RGB-color space is that color and intensity information are intertwined. **Hue-Saturation-_Value_** (HSV) color space is a color space with which you can adjust the intensity seperatly. In this section we investigate this space in depth. \n",
    "\n",
    "The image below visualizes the RGB color space and the HSV color spaces. You can see that in the HSV space, chromatic information is represented by the Hue and Saturation dimensions and achromatic information is represented by the Value.\n",
    "<img src=\"Data_Tutorial4/rgbhsv.jpg\" />\n",
    "\n",
    "**Exercise (HSV peppers)**: \n",
    "1. Looking at the bell-pepper image. What is the advantage of using the HSV color space if you want to segment the different bell peppers?\n",
    "\n",
    "\n",
    "<!---\n",
    "Conversion from RGB to HSV is done as follows:\n",
    "\n",
    "\\begin{equation*}\n",
    "V \\leftarrow \\text{max}(R,G,B)\\\\\n",
    "\\Delta V \\leftarrow V-\\text{min}(R,G,B)\\\\\n",
    "S \\leftarrow    \n",
    "\\begin{cases}\n",
    "    \\frac{\\Delta V}{V} & \\text{if } V \\neq 0\t\\\\\n",
    "    0 & \\text{otherwise}\t\\\\\n",
    "\\end{cases}\\\\\n",
    "H \\leftarrow\n",
    "\\begin{cases}\n",
    "60(G-B)/\\Delta V & \\text{if } V=R\\\\\n",
    "120 + 60(B-R)/\\Delta V & \\text{if } V=G\\\\\n",
    "240 + 60(R-G)/\\Delta V & \\text{if } V=B\\\\\n",
    "\\end{cases}\\\\\n",
    "\\end{equation*}\n",
    "--->\n"
   ]
  },
  {
   "cell_type": "markdown",
   "metadata": {},
   "source": [
    "Conversions between different color spaces can be done using the openCV function:\n",
    "\n",
    "<center>```python img_out = cv2.cvtColor(img_in, conversion_type)``` </center>\n",
    "\n",
    "For BGR $\\leftrightarrow$ HSV conversion: ```python conversion_type = cv2.COLOR_BGR2HSV```.  \n",
    "For HSV $\\leftrightarrow$ BGR conversion: ```python conversion_type = cv2.COLOR_HSV2BGR```.  \n",
    "\n",
    "When the images are represented using 8-bit unsigned integers (as we currently do), the values are:\n",
    "\\begin{equation*}\n",
    "0 \\leq H \\leq 180\\\\\n",
    "0 \\leq S \\leq 255\\\\\n",
    "0 \\leq V \\leq 255\\\\\n",
    "\\end{equation*}\n",
    "**NB.** Normally Hue is represented as an angle, so $0 \\leq H \\leq 360$, but as that does not fit in an 8-bit representation, $H \\leftarrow H/2$ is used."
   ]
  },
  {
   "cell_type": "markdown",
   "metadata": {},
   "source": [
    "Let's convert the image of the bell pepper to the HSV-color space and inspect the three color channels.  \n",
    "**NB.** in the code below, we focus on Hue values from 0 to 80 to make the colors of the bell peppers more apparent. Larger values are displayed as white"
   ]
  },
  {
   "cell_type": "code",
   "execution_count": null,
   "metadata": {
    "scrolled": true
   },
   "outputs": [],
   "source": [
    "# Read the image\n",
    "path = 'Data_Tutorial4/bellpepper_colors.png'\n",
    "img_bgr = cv2.imread(path)\n",
    "\n",
    "# Convert BGR to HSV\n",
    "img_hsv = cv2.cvtColor(img_bgr, cv2.COLOR_BGR2HSV)\n",
    "\n",
    "# Take the separate HSV-channels\n",
    "channel_hue = img_hsv[:,:,0]\n",
    "channel_sat = img_hsv[:,:,1]\n",
    "channel_val = img_hsv[:,:,2]\n",
    "\n",
    "# Show the image plus the three color channels\n",
    "show_rgb_plus_three_channels(img_bgr, channel_hue, channel_sat, channel_val, 'Hue', 'Saturation', 'Value', 80, 255, 255)"
   ]
  },
  {
   "cell_type": "markdown",
   "metadata": {},
   "source": [
    "**Exercise (hue issues)**:\n",
    "1. What do you notice looking at the Hue channel?  \n",
    "2. Do you see something special on the red bell pepper? Can you explain it?"
   ]
  },
  {
   "cell_type": "markdown",
   "metadata": {},
   "source": [
    "The code below allows you to segment objects in the image using a minimum threshold ($h_{\\text{min}}$) and maximum threshold ($h_{\\text{max}}$) on the Hue value. All pixels with $ h_{\\text{min}} \\leq h < h_{\\text{max}}$ are set to true (displayed as white) and to false otherwise (displayed as black).\n",
    "\n",
    "**Exercise (hue segmentation)**:\n",
    "1. Run the code below and use the sliders for the min and max threshold. Search for the threshold values to segment the red, orange, yellow, and green bell pepper. Use the image and colorbar of the Hue channel.  \n",
    "**NB.** The slider allows you to enter **_negative values_**. This is on purpose. As Hue is in angle units, 0&deg; equals 360&deg;. For the 8-bit representation that we use, it means that $H=0$ equals $H=180$. If you enter negative values, it is automatically converted to the corresponding positive value. This allows you to deal with the issue that red colors are separate with Hue values slightly larger than 0 and slightly smaller than 180."
   ]
  },
  {
   "cell_type": "code",
   "execution_count": null,
   "metadata": {},
   "outputs": [],
   "source": [
    "hue_widget = IntRangeSlider(description='Hue [-30,180)',min=-20, max=180, step=1, layout={'width': '800px'})\n",
    "\n",
    "def segmentImageHue(hue_range):\n",
    "    hue_min = hue_range[0] if hue_range[0]>0 else (hue_range[0]+180)\n",
    "    hue_max = hue_range[1] if hue_range[1]>0 else (hue_range[1]+180)\n",
    "    \n",
    "    if(hue_max>hue_min):\n",
    "        mask = np.logical_and(img_hsv[:,:,0] >= hue_min, img_hsv[:,:,0] < hue_max)\n",
    "    else:\n",
    "        mask = np.logical_or(img_hsv[:,:,0] < hue_max, img_hsv[:,:,0] >= hue_min)\n",
    "        \n",
    "    mask = mask.astype(np.uint8)\n",
    "\n",
    "    fig = plt.figure()\n",
    "    plt.subplot(221)\n",
    "    imshow_rgb(img_bgr)\n",
    "    plt.axis('off')\n",
    "    plt.title('RGB image')\n",
    "    plt.subplot(222)\n",
    "    impl = plt.imshow(img_hsv[:,:,0],plt.get_cmap('jet'))\n",
    "    plt.axis('off')\n",
    "    plt.title('Hue channel')\n",
    "    plt.colorbar(impl, fraction=0.030, pad=0.04)\n",
    "    plt.subplot(223)\n",
    "    plt.imshow(mask,plt.get_cmap('gray'))\n",
    "    plt.axis('off')\n",
    "    plt.title(\"Segment\")\n",
    "    plt.show()\n",
    "    fig.tight_layout()\n",
    "\n",
    "hue_widget.value = (0,50)\n",
    "interact(segmentImageHue,hue_range=hue_widget)"
   ]
  }
 ],
 "metadata": {
  "kernelspec": {
   "display_name": "Python 3",
   "language": "python",
   "name": "python3"
  },
  "language_info": {
   "codemirror_mode": {
    "name": "ipython",
    "version": 3
   },
   "file_extension": ".py",
   "mimetype": "text/x-python",
   "name": "python",
   "nbconvert_exporter": "python",
   "pygments_lexer": "ipython3",
   "version": "3.6.7"
  }
 },
 "nbformat": 4,
 "nbformat_minor": 2
}
