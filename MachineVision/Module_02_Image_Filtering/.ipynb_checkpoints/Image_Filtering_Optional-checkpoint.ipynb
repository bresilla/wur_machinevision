{
 "cells": [
  {
   "cell_type": "markdown",
   "metadata": {},
   "source": [
    "---\n",
    "## Non-linear noise filtering (the median filter) \n",
    "---\n",
    "\n",
    "The Gaussian filter removes the noise in the image quite well. However, the downside is that the object contours are also blurred. A median filter can be a more effective filter to remove noise and keep sharp contours.\n",
    "\n",
    "Median filters are based on the commonly used statistic of a set of numbers know as the median. The median of a set of numbers is defined as the middle value after the set has been sorted. Or, stated differently, the median is the value that separates the lower and upper values of a set of numbers. So, the median for the set of numbers\n",
    "\n",
    "`0, 10, 13, 3, 6`\n",
    "\n",
    "can be calculated by first sorting the array\n",
    "\n",
    "`0, 3, 6, 10, 13`\n",
    "\n",
    "and then selecting the middle element, 6 in this case.\n",
    "\n",
    "A median filter works by taking the $N \\times N$ neighbourhood of a given pixel, and outputting the median of those pixels. Let look at a 1D case as an example:\n",
    "\n",
    "``` \n",
    "5 1 8 6 9 2 3 6\n",
    "```\n",
    "\n",
    "Assume that the external boundaries are 0, and that we use a median filter with size $1\\times3$. We then look at each set of 3 values:\n",
    "```\n",
    "Numbers -> Median\n",
    "0 5 1   -> 1\n",
    "5 1 8   -> 5\n",
    "1 8 6   -> 6\n",
    "8 6 9   -> 8\n",
    "6 9 2   -> 6\n",
    "9 2 3   -> 3\n",
    "2 3 6   -> 3\n",
    "3 6 0   -> 3\n",
    "\n",
    "```\n",
    "\n",
    "So, the median filtered image is:\n",
    "\n",
    "```\n",
    "1 5 6 8 6 3 3 3\n",
    "```\n",
    "\n",
    "For images, we simply look at $N \\times N$ blocks of numbers instead, otherwise the calculation is exactly the same.\n",
    "\n",
    "Just note that, if the set of values has an even number of items, then there isn't one center value. In such cases, we may return either the mean of the two centermost values, or either the upper or lower value. However, in image processing we usually use odd-valued filter dimensions, so this is not neccesary.\n",
    "\n",
    "\n",
    "Run the code below"
   ]
  },
  {
   "cell_type": "code",
   "execution_count": null,
   "metadata": {},
   "outputs": [],
   "source": [
    "import numpy as np\n",
    "from matplotlib import pyplot as plt\n",
    "import cv2"
   ]
  },
  {
   "cell_type": "code",
   "execution_count": null,
   "metadata": {},
   "outputs": [],
   "source": [
    "#Function to show one or multiple images\n",
    "def show_images(images):\n",
    "    figwidth = 20; figheight = figwidth * images[0][0].shape[0]/images[0][0].shape[1]\n",
    "    plt.figure(figsize=(figwidth,figheight))\n",
    "    cols = 2\n",
    "    rows = len(images) // 2 + 1\n",
    "    for i, image in enumerate(images):\n",
    "        plt.subplot(rows,cols,i+1)\n",
    "        plt.imshow(image[0], cmap='gray')\n",
    "        plt.title(str(image[1]))\n",
    "        plt.xticks([]), plt.yticks([])\n",
    "    plt.show()\n",
    "    \n",
    "# Open a gray-scale image \n",
    "img = cv2.imread('Data_Tutorial2/OpenCv.tif', 0)  # Load image in grayscale\n",
    "\n",
    "# Add some Gaussian noise\n",
    "noise = 10*np.random.randn(img.shape[0],img.shape[1])\n",
    "img_noise = np.clip(img + noise, 0, 255).astype('uint8')\n",
    "\n",
    "# Show the original image and filtered image\n",
    "show_images([(img,\"img\"),(img_noise,\"noisy image\")])            "
   ]
  },
  {
   "cell_type": "code",
   "execution_count": null,
   "metadata": {},
   "outputs": [],
   "source": [
    "img_gaussian = blur = cv2.GaussianBlur(img_noise,(7,7),3) \n",
    "img_median = cv2.medianBlur(img_noise, 7)                           #apply median filter with kernel size 5\n",
    "\n",
    "show_images([(img,\"original\"), (img_noise, \"noisy image\"), (img_gaussian, \"Gaussian filter\"), (img_median, \"median filter\")])"
   ]
  },
  {
   "cell_type": "markdown",
   "metadata": {},
   "source": [
    "And applied to a real image with salt-and-pepper noise:"
   ]
  },
  {
   "cell_type": "code",
   "execution_count": null,
   "metadata": {},
   "outputs": [],
   "source": [
    "# Load an image with salt-and-pepper noise\n",
    "img = cv2.imread('Data_Tutorial2/NoiseMilk.tif', 0) \n",
    "\n",
    "# Filter the image using a Gaussian filter and Median filter \n",
    "img_gaussian = cv2.GaussianBlur(img,(9,9),0) \n",
    "img_median = cv2.medianBlur(img, 5)                           #apply median filter with kernel size 5\n",
    "show_images([(img,\"original\"), (img_gaussian, \"Gaussian filter\"), (img_median, \"median filter\")])"
   ]
  },
  {
   "cell_type": "markdown",
   "metadata": {},
   "source": [
    "Median filtering is a common image enhancement technique for removing salt and pepper noise. Because this filtering is less sensitive than linear techniques to extreme changes in pixel values. Moreover, the method can better deal with object contours in the image. Median filtering can remove salt and pepper noise without significantly reducing the sharpness of an image.\n",
    "\n",
    "__Exercise (median vs blur filter):__\n",
    "\n",
    "- Explain difference between the median filter and blur filter.\n",
    "- Change the size of the median filter to a high value (e.g. 25). What happens? Comment on your findings. \n"
   ]
  },
  {
   "cell_type": "markdown",
   "metadata": {},
   "source": [
    "We will now apply both a median filter and a blur filter on a very basic image which only contains pixel values 0 and 255. The image contains some noise. "
   ]
  },
  {
   "cell_type": "code",
   "execution_count": null,
   "metadata": {},
   "outputs": [],
   "source": [
    "imgZW = cv2.imread('Data_Tutorial2/zwart_wit.tif', 0) \n",
    "\n",
    "kernelSize=7\n",
    "\n",
    "medianZW = cv2.medianBlur(imgZW,kernelSize) \n",
    "blurZW = cv2.GaussianBlur(imgZW,(kernelSize,kernelSize),0) #apply gaussian blurring\n",
    "\n",
    "show_images([[imgZW,\"original\"], [medianZW, \"median filter\"], [blurZW, \"blur filter\"]]) "
   ]
  },
  {
   "cell_type": "markdown",
   "metadata": {},
   "source": [
    "__Excercise (median filtering and filter size):__\n",
    "1. What happens at the border between black and white? \n",
    "2. What happens to the small noise patches? What to the larget noise patches?\n",
    "3. What happens with the big noise patches when you change the filter size to 15?\n",
    "\n",
    "Use `%timeit` in front of the code lines where the medianBlur and GaussianBlur functions are performed. \n",
    "\n",
    "__Exercise (median filter disadvantage):__\n",
    "1. What is the disadvantage of using the median filter?"
   ]
  },
  {
   "cell_type": "code",
   "execution_count": null,
   "metadata": {},
   "outputs": [],
   "source": [
    "# Add %timeit to the lines where the medianBlur and GaussianBlur is performed\n",
    "# ...\n"
   ]
  }
 ],
 "metadata": {
  "kernelspec": {
   "display_name": "Python 3",
   "language": "python",
   "name": "python3"
  },
  "language_info": {
   "codemirror_mode": {
    "name": "ipython",
    "version": 3
   },
   "file_extension": ".py",
   "mimetype": "text/x-python",
   "name": "python",
   "nbconvert_exporter": "python",
   "pygments_lexer": "ipython3",
   "version": "3.6.7"
  }
 },
 "nbformat": 4,
 "nbformat_minor": 2
}
