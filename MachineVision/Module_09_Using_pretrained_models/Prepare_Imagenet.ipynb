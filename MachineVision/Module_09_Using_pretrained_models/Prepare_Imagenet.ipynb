{
 "cells": [
  {
   "cell_type": "code",
   "execution_count": null,
   "metadata": {},
   "outputs": [],
   "source": [
    "import numpy as np\n",
    "import matplotlib\n",
    "from matplotlib import pyplot as plt\n",
    "import os \n",
    "import skimage"
   ]
  },
  {
   "cell_type": "markdown",
   "metadata": {},
   "source": [
    "This notebook is only necessary if you need to regenerate the dataset from scratch.\n",
    "\n",
    "Point the following path to your ImageNet validation directory"
   ]
  },
  {
   "cell_type": "code",
   "execution_count": null,
   "metadata": {},
   "outputs": [],
   "source": [
    "imagenet_validation_dir = \"D:\\\\Datasets\\\\ILSVRC2012\\\\Validation\\\\ILSVRC2012_img_val\""
   ]
  },
  {
   "cell_type": "markdown",
   "metadata": {},
   "source": [
    "Get all the filenames..."
   ]
  },
  {
   "cell_type": "code",
   "execution_count": null,
   "metadata": {},
   "outputs": [],
   "source": [
    "all_images = os.listdir(imagenet_validation_dir)\n",
    "all_images = [x for x in all_images if (x[-5:].lower() == \".jpeg\") or (x[-4:].lower() == \".jpg\")]\n",
    "print(len(all_images))"
   ]
  },
  {
   "cell_type": "markdown",
   "metadata": {},
   "source": [
    "Grab the shapes of the images..."
   ]
  },
  {
   "cell_type": "code",
   "execution_count": null,
   "metadata": {},
   "outputs": [],
   "source": [
    "def get_image_shapes():\n",
    "    shapes = []\n",
    "    for n, filename in enumerate(all_images):\n",
    "        if (n % 1000 == 0):\n",
    "            print(n, end=\" \")\n",
    "        path = os.path.join(imagenet_validation_dir, filename)\n",
    "        shapes.append(plt.imread(path).shape)\n",
    "    return shapes\n",
    "\n",
    "all_image_shapes = get_image_shapes()"
   ]
  },
  {
   "cell_type": "markdown",
   "metadata": {},
   "source": [
    "Load the ground truth labels of the images"
   ]
  },
  {
   "cell_type": "code",
   "execution_count": null,
   "metadata": {},
   "outputs": [],
   "source": [
    "ground_filename = \"ILSVRC2012_validation_ground_truth.txt\"\n",
    "ground_file = open(ground_filename, \"r\")\n",
    "ground_lines = ground_file.readlines() "
   ]
  },
  {
   "cell_type": "markdown",
   "metadata": {},
   "source": [
    "Create a numpy array. Start the labels from 0 instead of 1."
   ]
  },
  {
   "cell_type": "code",
   "execution_count": null,
   "metadata": {},
   "outputs": [],
   "source": [
    "labels = np.array([int(x) for x in ground_lines]) - 1"
   ]
  },
  {
   "cell_type": "markdown",
   "metadata": {},
   "source": [
    "Put the x and y dimensions in an array"
   ]
  },
  {
   "cell_type": "code",
   "execution_count": null,
   "metadata": {},
   "outputs": [],
   "source": [
    "dims = np.array([[x[0],x[1]] for x in all_image_shapes])"
   ]
  },
  {
   "cell_type": "markdown",
   "metadata": {},
   "source": [
    "Calculate the ratios of width to height"
   ]
  },
  {
   "cell_type": "code",
   "execution_count": null,
   "metadata": {},
   "outputs": [],
   "source": [
    "ratios = np.array([dims[:,0] / dims[:,1], dims[:,1] / dims[:,0]])\n",
    "ratios = np.max(ratios,axis=0)\n",
    "ratios"
   ]
  },
  {
   "cell_type": "markdown",
   "metadata": {},
   "source": [
    "We prefer close as possible to square aspect ratios, so sort the ratios from lowest to highest"
   ]
  },
  {
   "cell_type": "code",
   "execution_count": null,
   "metadata": {},
   "outputs": [],
   "source": [
    "indices = np.argsort(ratios)"
   ]
  },
  {
   "cell_type": "markdown",
   "metadata": {},
   "source": [
    "Sort dataset based on this critereon."
   ]
  },
  {
   "cell_type": "code",
   "execution_count": null,
   "metadata": {},
   "outputs": [],
   "source": [
    "sorted_labels = labels[indices]\n",
    "sorted_ratios = ratios[indices]\n",
    "sorted_dims = dims[indices]\n",
    "sorted_images = [all_images[i] for i in indices]"
   ]
  },
  {
   "cell_type": "markdown",
   "metadata": {},
   "source": [
    "Specify how many items to keep from set per class"
   ]
  },
  {
   "cell_type": "code",
   "execution_count": null,
   "metadata": {},
   "outputs": [],
   "source": [
    "num_per_class = 5\n",
    "\n",
    "keepers = []\n",
    "for k in range(1000):\n",
    "    keepers.append([])"
   ]
  },
  {
   "cell_type": "markdown",
   "metadata": {},
   "source": [
    "Go through the list of images in sorted order (by aspect ratio). Keep adding to each class until you've reached num_per_class"
   ]
  },
  {
   "cell_type": "code",
   "execution_count": null,
   "metadata": {},
   "outputs": [],
   "source": [
    "for k in range(len(sorted_images)):\n",
    "    label = sorted_labels[k]\n",
    "    if (len(keepers[label]) < num_per_class):\n",
    "        keepers[label].append(k)"
   ]
  },
  {
   "cell_type": "markdown",
   "metadata": {},
   "source": [
    "So, supremely annoying, there is a difference between the class ordering of VGG-16 under pytorch and the actual ImageNet dataset O_o. So, we need to convert to class indices from the one to the other. The following loads ImageNet 2012's own metadata"
   ]
  },
  {
   "cell_type": "code",
   "execution_count": null,
   "metadata": {},
   "outputs": [],
   "source": [
    "import scipy.io\n",
    "meta = scipy.io.loadmat('meta.mat')"
   ]
  },
  {
   "cell_type": "markdown",
   "metadata": {},
   "source": [
    "Make structures for validation set index lookup."
   ]
  },
  {
   "cell_type": "code",
   "execution_count": null,
   "metadata": {},
   "outputs": [],
   "source": [
    "validation_index_dict = {}\n",
    "validation_name_dict = {}\n",
    "validation_names = []\n",
    "\n",
    "for k in range(1000):\n",
    "    name = meta[\"synsets\"][k][0][2][0]\n",
    "    validation_index_dict[name] = k\n",
    "    validation_name_dict[k] = name\n",
    "    validation_names.append(name)"
   ]
  },
  {
   "cell_type": "code",
   "execution_count": null,
   "metadata": {},
   "outputs": [],
   "source": [
    "Load the PyTorch VGG16 side indices"
   ]
  },
  {
   "cell_type": "code",
   "execution_count": null,
   "metadata": {},
   "outputs": [],
   "source": [
    "class_id_file = open(\"imagenet1000_clsid_to_human.txt\", \"r\")\n",
    "class_dict = eval(class_id_file.read())\n",
    "class_id_file.close()\n"
   ]
  },
  {
   "cell_type": "markdown",
   "metadata": {},
   "source": [
    "Build a conversion dictionary from imagenet 2012 to pytorch VGG16 indices."
   ]
  },
  {
   "cell_type": "code",
   "execution_count": null,
   "metadata": {},
   "outputs": [],
   "source": [
    "inverse_class_dict = {}\n",
    "for k in range(1000):\n",
    "    inverse_class_dict[class_dict[k]] = k"
   ]
  },
  {
   "cell_type": "code",
   "execution_count": null,
   "metadata": {},
   "outputs": [],
   "source": [
    "index_conversion_dict = {}\n",
    "for k in range(1000):\n",
    "    index_conversion_dict[k] = inverse_class_dict[validation_names[k]]\n",
    "    \n"
   ]
  },
  {
   "cell_type": "markdown",
   "metadata": {},
   "source": [
    "Make the dataset class directories"
   ]
  },
  {
   "cell_type": "code",
   "execution_count": null,
   "metadata": {},
   "outputs": [],
   "source": [
    "for k in range(1000):\n",
    "    os.mkdir(\"dataset/%d\" % k)"
   ]
  },
  {
   "cell_type": "markdown",
   "metadata": {},
   "source": [
    "Resize each of the selected images and write into the dataset directories."
   ]
  },
  {
   "cell_type": "code",
   "execution_count": null,
   "metadata": {},
   "outputs": [],
   "source": [
    "import skimage.transform\n",
    "for k in range(1000):\n",
    "    dirnum = index_conversion_dict[k]\n",
    "    print(\"%d \" % k, end = \" \")\n",
    "    for sorted_index in keepers[k]:\n",
    "        image_file = sorted_images[sorted_index]\n",
    "        path = os.path.join(imagenet_validation_dir, image_file)\n",
    "        img = plt.imread(path)\n",
    "        target_path = os.path.join(\"dataset/%d\" % dirnum, image_file)\n",
    "        #print(target_path)\n",
    "        \n",
    "        plt.imsave(target_path, skimage.transform.resize(img, (224, 224, 3)))"
   ]
  },
  {
   "cell_type": "code",
   "execution_count": null,
   "metadata": {},
   "outputs": [],
   "source": []
  }
 ],
 "metadata": {
  "kernelspec": {
   "display_name": "Python 3",
   "language": "python",
   "name": "python3"
  },
  "language_info": {
   "codemirror_mode": {
    "name": "ipython",
    "version": 3
   },
   "file_extension": ".py",
   "mimetype": "text/x-python",
   "name": "python",
   "nbconvert_exporter": "python",
   "pygments_lexer": "ipython3",
   "version": "3.6.7"
  }
 },
 "nbformat": 4,
 "nbformat_minor": 2
}
